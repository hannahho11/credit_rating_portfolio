{
 "cells": [
  {
   "cell_type": "code",
   "execution_count": 1,
   "metadata": {},
   "outputs": [],
   "source": [
    "#Data from Compustat North America Daily Ratings Updates: https://wrds-web.wharton.upenn.edu/wrds/ds/compd/rating/index.cfm?navId=83\n",
    "# Ratings query 1997-02 to 2019-10, data discontinued 2017-02\n",
    "# Price query 1997-01-31 to present\n",
    "# Period 1: 1997\n",
    "import pandas as pd"
   ]
  },
  {
   "cell_type": "code",
   "execution_count": 3,
   "metadata": {},
   "outputs": [],
   "source": [
    "price_df = pd.read_csv('../compustat_monthly_prices_1997_02_to_latest.csv')"
   ]
  },
  {
   "cell_type": "code",
   "execution_count": 22,
   "metadata": {},
   "outputs": [],
   "source": [
    "# list(price_df.columns)"
   ]
  },
  {
   "cell_type": "code",
   "execution_count": 27,
   "metadata": {},
   "outputs": [
    {
     "name": "stdout",
     "output_type": "stream",
     "text": [
      "Year data type <class 'numpy.float64'> nan\n",
      "Month data type <class 'numpy.float64'> nan\n"
     ]
    }
   ],
   "source": [
    "# Variable descriptions: https://wrds-web.wharton.upenn.edu/wrds/ds/compd/secm/index.cfm?navId=83\n",
    "# CIK unique company identifier\n",
    "# PRCCM close price\n",
    "# CMTH month, CYEAR year\n",
    "# datadate\n",
    "# TRT1M monthly total return: monthly multiplication factor for calculating the total return to shareholders of any time period.\n",
    "# includes Cash Equivalent Distributions (from 01-31-1982 and forward) along with reinvestment of dividends and the compounding effect of dividends paid on reinvested dividends.\n",
    "# 'cshom' s/o monthly, 'chsoq' s/o quarterly\n",
    "price_df_relevant = price_df[['cik','prccm','cmth','cyear','trt1m']]\n",
    "print('Year data type', type(price_df_relevant['cyear'][0]), price_df_relevant['cyear'][0])\n",
    "print('Month data type', type(price_df_relevant['cmth'][0]),price_df_relevant['cmth'][0])"
   ]
  },
  {
   "cell_type": "code",
   "execution_count": 28,
   "metadata": {},
   "outputs": [
    {
     "data": {
      "text/plain": [
       "0          19970131\n",
       "1          19970228\n",
       "2          19970331\n",
       "3          19970430\n",
       "4          19970531\n",
       "             ...   \n",
       "4615006    20190831\n",
       "4615054    20190331\n",
       "4615055    20190430\n",
       "4615056    20190531\n",
       "4615057    20190630\n",
       "Name: datadate, Length: 542535, dtype: int64"
      ]
     },
     "execution_count": 28,
     "metadata": {},
     "output_type": "execute_result"
    }
   ],
   "source": [
    "price_df[price_df['cshom'].isnull()]['datadate']"
   ]
  },
  {
   "cell_type": "code",
   "execution_count": 45,
   "metadata": {},
   "outputs": [
    {
     "name": "stdout",
     "output_type": "stream",
     "text": [
      "1970-01-01 00:00:00.019970131\n",
      "1970\n",
      "1\n"
     ]
    }
   ],
   "source": [
    "price_df['datadate'] = pd.to_datetime(price_df['datadate'])#,format = '%y%m%d')\n",
    "print(price_df['datadate'][0])\n",
    "print(price_df['datadate'][0].year)\n",
    "print(price_df['datadate'][0].month)"
   ]
  },
  {
   "cell_type": "code",
   "execution_count": 48,
   "metadata": {},
   "outputs": [
    {
     "name": "stdout",
     "output_type": "stream",
     "text": [
      "Percent null months 11.76 %\n",
      "Percent null years 11.76 %\n",
      "Percent null datadate 0.0 %\n",
      "Percent null cik 22.97 %\n",
      "\n",
      "Percent null trt1m monthly 1.92 %\n",
      "\n",
      "Percent null s/o monthly 11.76 %\n",
      "\n",
      "Percent null s/o monthly 11.76 %\n",
      "Percent null price monthly 1.58 %\n"
     ]
    }
   ],
   "source": [
    "print('Percent null months', round((price_df['cmth'].isnull().sum()/len(price_df)) * 100,2),'%')\n",
    "print('Percent null years', round((price_df['cyear'].isnull().sum()/len(price_df)) * 100,2),'%')\n",
    "print('Percent null datadate', round((price_df['datadate'].isnull().sum()/len(price_df)) * 100,2),'%')\n",
    "print('Percent null cik', round((price_df['cik'].isnull().sum()/len(price_df)) * 100,2),'%')\n",
    "\n",
    "print('\\nPercent null trt1m monthly', round((price_df['trt1m'].isnull().sum()/len(price_df)) * 100,2),'%')\n",
    "print('\\nPercent null s/o monthly', round((price_df['cshom'].isnull().sum()/len(price_df)) * 100,2),'%')\n",
    "print('\\nPercent null s/o monthly', round((price_df['cshom'].isnull().sum()/len(price_df)) * 100,2),'%')\n",
    "print('Percent null price monthly', round((price_df['prccm'].isnull().sum()/len(price_df)) * 100,2),'%')"
   ]
  }
 ],
 "metadata": {
  "kernelspec": {
   "display_name": "Python 3",
   "language": "python",
   "name": "python3"
  },
  "language_info": {
   "codemirror_mode": {
    "name": "ipython",
    "version": 3
   },
   "file_extension": ".py",
   "mimetype": "text/x-python",
   "name": "python",
   "nbconvert_exporter": "python",
   "pygments_lexer": "ipython3",
   "version": "3.7.5"
  }
 },
 "nbformat": 4,
 "nbformat_minor": 4
}
