{
 "cells": [
  {
   "cell_type": "code",
   "execution_count": 1,
   "metadata": {},
   "outputs": [],
   "source": [
    "import pandas as pd"
   ]
  },
  {
   "cell_type": "code",
   "execution_count": 5,
   "metadata": {},
   "outputs": [
    {
     "name": "stderr",
     "output_type": "stream",
     "text": [
      "C:\\Users\\Joseph\\Anaconda3\\lib\\site-packages\\IPython\\core\\interactiveshell.py:3058: DtypeWarning: Columns (4,9,15,16,17,18,19,20,21,22,23,24,26,27,29,30,31) have mixed types. Specify dtype option on import or set low_memory=False.\n",
      "  interactivity=interactivity, compiler=compiler, result=result)\n"
     ]
    }
   ],
   "source": [
    "# data_files = '../muni-finance-credit-ratings-history-data/data/'\n",
    "# csv_name = 'ratings_for_upload.csv'\n",
    "df = pd.read_csv('ratings_for_upload.csv')"
   ]
  },
  {
   "cell_type": "code",
   "execution_count": 6,
   "metadata": {},
   "outputs": [
    {
     "data": {
      "text/html": [
       "<div>\n",
       "<style scoped>\n",
       "    .dataframe tbody tr th:only-of-type {\n",
       "        vertical-align: middle;\n",
       "    }\n",
       "\n",
       "    .dataframe tbody tr th {\n",
       "        vertical-align: top;\n",
       "    }\n",
       "\n",
       "    .dataframe thead th {\n",
       "        text-align: right;\n",
       "    }\n",
       "</style>\n",
       "<table border=\"1\" class=\"dataframe\">\n",
       "  <thead>\n",
       "    <tr style=\"text-align: right;\">\n",
       "      <th></th>\n",
       "      <th>rating_agency_name</th>\n",
       "      <th>file_creating_date</th>\n",
       "      <th>sec_category</th>\n",
       "      <th>issuer_name</th>\n",
       "      <th>legal_entity_identifier</th>\n",
       "      <th>object_type_rated</th>\n",
       "      <th>instrument_name</th>\n",
       "      <th>cusip_number</th>\n",
       "      <th>coupon_date</th>\n",
       "      <th>maturity_date</th>\n",
       "      <th>...</th>\n",
       "      <th>issuer_identifier_schema</th>\n",
       "      <th>instrument_identifier</th>\n",
       "      <th>instrument_identifier_schema</th>\n",
       "      <th>central_index_key</th>\n",
       "      <th>obligor_identifier</th>\n",
       "      <th>obligor_identifier_schema</th>\n",
       "      <th>obligor_identifier_other</th>\n",
       "      <th>obligor_sec_category</th>\n",
       "      <th>obligor_industry_group</th>\n",
       "      <th>obligor_name</th>\n",
       "    </tr>\n",
       "  </thead>\n",
       "  <tbody>\n",
       "    <tr>\n",
       "      <td>0</td>\n",
       "      <td>Kroll Bond Rating Agency, Inc.</td>\n",
       "      <td>2017-12-01</td>\n",
       "      <td>Financial</td>\n",
       "      <td>Air Lease Corporation</td>\n",
       "      <td>NaN</td>\n",
       "      <td>Instrument</td>\n",
       "      <td>Air Lease Corporation  SR NT</td>\n",
       "      <td>00912XAF1</td>\n",
       "      <td>0.05625</td>\n",
       "      <td>2017-04-01</td>\n",
       "      <td>...</td>\n",
       "      <td>NRSRO</td>\n",
       "      <td>NaN</td>\n",
       "      <td>NaN</td>\n",
       "      <td>NaN</td>\n",
       "      <td>NaN</td>\n",
       "      <td>NaN</td>\n",
       "      <td>NaN</td>\n",
       "      <td>NaN</td>\n",
       "      <td>NaN</td>\n",
       "      <td>NaN</td>\n",
       "    </tr>\n",
       "    <tr>\n",
       "      <td>1</td>\n",
       "      <td>Kroll Bond Rating Agency, Inc.</td>\n",
       "      <td>2017-12-01</td>\n",
       "      <td>Financial</td>\n",
       "      <td>Air Lease Corporation</td>\n",
       "      <td>NaN</td>\n",
       "      <td>Instrument</td>\n",
       "      <td>Air Lease Corporation  SR NT</td>\n",
       "      <td>00912XAF1</td>\n",
       "      <td>0.05625</td>\n",
       "      <td>2017-04-01</td>\n",
       "      <td>...</td>\n",
       "      <td>NRSRO</td>\n",
       "      <td>NaN</td>\n",
       "      <td>NaN</td>\n",
       "      <td>NaN</td>\n",
       "      <td>NaN</td>\n",
       "      <td>NaN</td>\n",
       "      <td>NaN</td>\n",
       "      <td>NaN</td>\n",
       "      <td>NaN</td>\n",
       "      <td>NaN</td>\n",
       "    </tr>\n",
       "    <tr>\n",
       "      <td>2</td>\n",
       "      <td>Kroll Bond Rating Agency, Inc.</td>\n",
       "      <td>2017-12-01</td>\n",
       "      <td>Financial</td>\n",
       "      <td>Air Lease Corporation</td>\n",
       "      <td>NaN</td>\n",
       "      <td>Instrument</td>\n",
       "      <td>Air Lease Corporation  SR NT</td>\n",
       "      <td>00912XAF1</td>\n",
       "      <td>0.05625</td>\n",
       "      <td>2017-04-01</td>\n",
       "      <td>...</td>\n",
       "      <td>NRSRO</td>\n",
       "      <td>NaN</td>\n",
       "      <td>NaN</td>\n",
       "      <td>NaN</td>\n",
       "      <td>NaN</td>\n",
       "      <td>NaN</td>\n",
       "      <td>NaN</td>\n",
       "      <td>NaN</td>\n",
       "      <td>NaN</td>\n",
       "      <td>NaN</td>\n",
       "    </tr>\n",
       "    <tr>\n",
       "      <td>3</td>\n",
       "      <td>Kroll Bond Rating Agency, Inc.</td>\n",
       "      <td>2017-12-01</td>\n",
       "      <td>Financial</td>\n",
       "      <td>Air Lease Corporation</td>\n",
       "      <td>NaN</td>\n",
       "      <td>Instrument</td>\n",
       "      <td>Air Lease Corporation  SR NT</td>\n",
       "      <td>00912XAG9</td>\n",
       "      <td>0.04500</td>\n",
       "      <td>2016-01-15</td>\n",
       "      <td>...</td>\n",
       "      <td>NRSRO</td>\n",
       "      <td>NaN</td>\n",
       "      <td>NaN</td>\n",
       "      <td>NaN</td>\n",
       "      <td>NaN</td>\n",
       "      <td>NaN</td>\n",
       "      <td>NaN</td>\n",
       "      <td>NaN</td>\n",
       "      <td>NaN</td>\n",
       "      <td>NaN</td>\n",
       "    </tr>\n",
       "    <tr>\n",
       "      <td>4</td>\n",
       "      <td>Kroll Bond Rating Agency, Inc.</td>\n",
       "      <td>2017-12-01</td>\n",
       "      <td>Financial</td>\n",
       "      <td>Air Lease Corporation</td>\n",
       "      <td>NaN</td>\n",
       "      <td>Instrument</td>\n",
       "      <td>Air Lease Corporation  SR NT</td>\n",
       "      <td>00912XAG9</td>\n",
       "      <td>0.04500</td>\n",
       "      <td>2016-01-15</td>\n",
       "      <td>...</td>\n",
       "      <td>NRSRO</td>\n",
       "      <td>NaN</td>\n",
       "      <td>NaN</td>\n",
       "      <td>NaN</td>\n",
       "      <td>NaN</td>\n",
       "      <td>NaN</td>\n",
       "      <td>NaN</td>\n",
       "      <td>NaN</td>\n",
       "      <td>NaN</td>\n",
       "      <td>NaN</td>\n",
       "    </tr>\n",
       "  </tbody>\n",
       "</table>\n",
       "<p>5 rows × 32 columns</p>\n",
       "</div>"
      ],
      "text/plain": [
       "               rating_agency_name file_creating_date sec_category  \\\n",
       "0  Kroll Bond Rating Agency, Inc.         2017-12-01    Financial   \n",
       "1  Kroll Bond Rating Agency, Inc.         2017-12-01    Financial   \n",
       "2  Kroll Bond Rating Agency, Inc.         2017-12-01    Financial   \n",
       "3  Kroll Bond Rating Agency, Inc.         2017-12-01    Financial   \n",
       "4  Kroll Bond Rating Agency, Inc.         2017-12-01    Financial   \n",
       "\n",
       "             issuer_name legal_entity_identifier object_type_rated  \\\n",
       "0  Air Lease Corporation                     NaN        Instrument   \n",
       "1  Air Lease Corporation                     NaN        Instrument   \n",
       "2  Air Lease Corporation                     NaN        Instrument   \n",
       "3  Air Lease Corporation                     NaN        Instrument   \n",
       "4  Air Lease Corporation                     NaN        Instrument   \n",
       "\n",
       "                instrument_name cusip_number  coupon_date maturity_date  ...  \\\n",
       "0  Air Lease Corporation  SR NT    00912XAF1      0.05625    2017-04-01  ...   \n",
       "1  Air Lease Corporation  SR NT    00912XAF1      0.05625    2017-04-01  ...   \n",
       "2  Air Lease Corporation  SR NT    00912XAF1      0.05625    2017-04-01  ...   \n",
       "3  Air Lease Corporation  SR NT    00912XAG9      0.04500    2016-01-15  ...   \n",
       "4  Air Lease Corporation  SR NT    00912XAG9      0.04500    2016-01-15  ...   \n",
       "\n",
       "   issuer_identifier_schema  instrument_identifier  \\\n",
       "0                     NRSRO                    NaN   \n",
       "1                     NRSRO                    NaN   \n",
       "2                     NRSRO                    NaN   \n",
       "3                     NRSRO                    NaN   \n",
       "4                     NRSRO                    NaN   \n",
       "\n",
       "  instrument_identifier_schema central_index_key obligor_identifier  \\\n",
       "0                          NaN               NaN                NaN   \n",
       "1                          NaN               NaN                NaN   \n",
       "2                          NaN               NaN                NaN   \n",
       "3                          NaN               NaN                NaN   \n",
       "4                          NaN               NaN                NaN   \n",
       "\n",
       "  obligor_identifier_schema obligor_identifier_other obligor_sec_category  \\\n",
       "0                       NaN                      NaN                  NaN   \n",
       "1                       NaN                      NaN                  NaN   \n",
       "2                       NaN                      NaN                  NaN   \n",
       "3                       NaN                      NaN                  NaN   \n",
       "4                       NaN                      NaN                  NaN   \n",
       "\n",
       "  obligor_industry_group obligor_name  \n",
       "0                    NaN          NaN  \n",
       "1                    NaN          NaN  \n",
       "2                    NaN          NaN  \n",
       "3                    NaN          NaN  \n",
       "4                    NaN          NaN  \n",
       "\n",
       "[5 rows x 32 columns]"
      ]
     },
     "execution_count": 6,
     "metadata": {},
     "output_type": "execute_result"
    }
   ],
   "source": [
    "df.head()"
   ]
  },
  {
   "cell_type": "code",
   "execution_count": 7,
   "metadata": {},
   "outputs": [
    {
     "data": {
      "text/plain": [
       "Index(['rating_agency_name', 'file_creating_date', 'sec_category',\n",
       "       'issuer_name', 'legal_entity_identifier', 'object_type_rated',\n",
       "       'instrument_name', 'cusip_number', 'coupon_date', 'maturity_date',\n",
       "       'par_value', 'issued_paid', 'rating', 'rating_action_date',\n",
       "       'rating_action_class', 'rating_type', 'rating_sub_type',\n",
       "       'rating_type_term', 'other_announcement_type', 'watch_status',\n",
       "       'rating_outlook', 'issuer_identifier', 'issuer_identifier_schema',\n",
       "       'instrument_identifier', 'instrument_identifier_schema',\n",
       "       'central_index_key', 'obligor_identifier', 'obligor_identifier_schema',\n",
       "       'obligor_identifier_other', 'obligor_sec_category',\n",
       "       'obligor_industry_group', 'obligor_name'],\n",
       "      dtype='object')"
      ]
     },
     "execution_count": 7,
     "metadata": {},
     "output_type": "execute_result"
    }
   ],
   "source": [
    "df.columns"
   ]
  },
  {
   "cell_type": "code",
   "execution_count": 4,
   "metadata": {},
   "outputs": [
    {
     "name": "stdout",
     "output_type": "stream",
     "text": [
      "8442455 observations\n",
      "10 unique rating agencies\n",
      "\n",
      "Rating agencies:  ['Kroll Bond Rating Agency, Inc.' \"Moody's Investors Service\" 'DBRS'\n",
      " 'Japan Credit Rating Agency,Ltd.' 'Egan-Jones Ratings Company'\n",
      " 'Fitch Ratings' 'A.M.BEST COMPANY' 'HR Ratings de Mexico S.A. de C.V.'\n",
      " \"Standard & Poor's Ratings Services\" 'Morningstar Credit Ratings, LLC.']\n",
      "\n",
      "Columns:  Index(['rating_agency_name', 'file_creating_date', 'sec_category',\n",
      "       'issuer_name', 'legal_entity_identifier', 'object_type_rated',\n",
      "       'instrument_name', 'cusip_number', 'coupon_date', 'maturity_date',\n",
      "       'par_value', 'issued_paid', 'rating', 'rating_action_date',\n",
      "       'rating_action_class', 'rating_type', 'rating_sub_type',\n",
      "       'rating_type_term', 'other_announcement_type', 'watch_status',\n",
      "       'rating_outlook', 'issuer_identifier', 'issuer_identifier_schema',\n",
      "       'instrument_identifier', 'instrument_identifier_schema',\n",
      "       'central_index_key', 'obligor_identifier', 'obligor_identifier_schema',\n",
      "       'obligor_identifier_other', 'obligor_sec_category',\n",
      "       'obligor_industry_group', 'obligor_name'],\n",
      "      dtype='object')\n"
     ]
    }
   ],
   "source": [
    "print(len(df), 'observations')\n",
    "print(df['rating_agency_name'].nunique(), 'unique rating agencies')\n",
    "print('\\nRating agencies: ', df['rating_agency_name'].unique())\n",
    "print('\\nColumns: ', df.columns)"
   ]
  },
  {
   "cell_type": "markdown",
   "metadata": {},
   "source": [
    "CUSIP is a nine-digit numeric or nine-character alphanumeric code that identifies a North American financial security for the purposes of facilitating clearing and settlement of trades')"
   ]
  },
  {
   "cell_type": "code",
   "execution_count": 5,
   "metadata": {},
   "outputs": [],
   "source": [
    "# Convert date columns to datetime objects\n",
    "df['file_creating_date'] = pd.to_datetime(df['file_creating_date'])\n",
    "df['rating_action_date'] = pd.to_datetime(df['rating_action_date'])"
   ]
  },
  {
   "cell_type": "code",
   "execution_count": 6,
   "metadata": {},
   "outputs": [
    {
     "name": "stdout",
     "output_type": "stream",
     "text": [
      "earliest date:  1976-04-01 00:00:00\n",
      "latest date:  2017-12-01 00:00:00\n"
     ]
    }
   ],
   "source": [
    "print('earliest date: ', df['rating_action_date'].min())\n",
    "print('latest date: ', df['rating_action_date'].max())"
   ]
  },
  {
   "cell_type": "code",
   "execution_count": 7,
   "metadata": {},
   "outputs": [
    {
     "data": {
      "text/plain": [
       "<matplotlib.axes._subplots.AxesSubplot at 0x1877df01488>"
      ]
     },
     "execution_count": 7,
     "metadata": {},
     "output_type": "execute_result"
    }
   ],
   "source": [
    "# Create column with rating_action year\n",
    "df['rating_action_year'] = df['rating_action_date'].dt.to_period('Y')\n",
    "df['rating_action_year'].value_counts().plot(title = 'Unique bonds rating actions per year ranked by frequency', kind='bar')"
   ]
  },
  {
   "cell_type": "code",
   "execution_count": null,
   "metadata": {},
   "outputs": [],
   "source": []
  }
 ],
 "metadata": {
  "kernelspec": {
   "display_name": "Python 3",
   "language": "python",
   "name": "python3"
  },
  "language_info": {
   "codemirror_mode": {
    "name": "ipython",
    "version": 3
   },
   "file_extension": ".py",
   "mimetype": "text/x-python",
   "name": "python",
   "nbconvert_exporter": "python",
   "pygments_lexer": "ipython3",
   "version": "3.7.4"
  }
 },
 "nbformat": 4,
 "nbformat_minor": 4
}
