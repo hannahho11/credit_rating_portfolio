{
 "cells": [
  {
   "cell_type": "code",
   "execution_count": 2,
   "metadata": {},
   "outputs": [],
   "source": [
    "import pandas as pd\n",
    "import numpy as np\n",
    "import matplotlib.pyplot as plt\n",
    "import matplotlib.ticker as mtick"
   ]
  },
  {
   "cell_type": "code",
   "execution_count": 2,
   "metadata": {},
   "outputs": [
    {
     "name": "stderr",
     "output_type": "stream",
     "text": [
      "C:\\Users\\Joseph\\Anaconda3\\lib\\site-packages\\IPython\\core\\interactiveshell.py:3058: DtypeWarning: Columns (2,3,6,7,8,14,30) have mixed types. Specify dtype option on import or set low_memory=False.\n",
      "  interactivity=interactivity, compiler=compiler, result=result)\n"
     ]
    }
   ],
   "source": [
    "df = pd.read_csv('compustat_dailly_ratings_1997_02_to_latest.csv')"
   ]
  },
  {
   "cell_type": "code",
   "execution_count": 3,
   "metadata": {},
   "outputs": [
    {
     "data": {
      "text/plain": [
       "Index(['gvkey', 'splticrm', 'spsdrm', 'spsticrm', 'datadate', 'add1', 'add2',\n",
       "       'add3', 'add4', 'addzip', 'busdesc', 'cik', 'city', 'conml', 'county',\n",
       "       'dlrsn', 'ein', 'fax', 'fic', 'fyrc', 'ggroup', 'gind', 'gsector',\n",
       "       'gsubind', 'idbflag', 'incorp', 'loc', 'naics', 'phone', 'prican',\n",
       "       'prirow', 'priusa', 'sic', 'spcindcd', 'spcseccd', 'spcsrc', 'state',\n",
       "       'stko', 'weburl', 'dldte', 'ipodate', 'conm', 'tic', 'cusip'],\n",
       "      dtype='object')"
      ]
     },
     "execution_count": 3,
     "metadata": {},
     "output_type": "execute_result"
    }
   ],
   "source": [
    "#splticrm: S&P Domestic Long Term Issuer Credit Rating\n",
    "#datadate: date bond rating data was collected\n",
    "#cik: company unique ID\n",
    "#llc location\n",
    "#Final data ~3k, most don't have long term ratings, filtered for US companies\n",
    "df.columns"
   ]
  },
  {
   "cell_type": "code",
   "execution_count": 4,
   "metadata": {},
   "outputs": [
    {
     "data": {
      "text/plain": [
       "BBB     60149\n",
       "B+      48345\n",
       "BBB+    47786\n",
       "BBB-    46539\n",
       "BB-     44129\n",
       "A-      37203\n",
       "A       35631\n",
       "B       34892\n",
       "BB      34450\n",
       "BB+     27469\n",
       "A+      22673\n",
       "B-      17720\n",
       "AA-     13008\n",
       "AA       7409\n",
       "CCC+     6865\n",
       "D        5208\n",
       "AAA      4420\n",
       "CCC      3515\n",
       "AA+      2430\n",
       "CC       1293\n",
       "CCC-     1126\n",
       "SD        666\n",
       "N.M.      182\n",
       "Name: splticrm, dtype: int64"
      ]
     },
     "execution_count": 4,
     "metadata": {},
     "output_type": "execute_result"
    }
   ],
   "source": [
    "df['splticrm'].value_counts()"
   ]
  },
  {
   "cell_type": "code",
   "execution_count": 5,
   "metadata": {},
   "outputs": [
    {
     "data": {
      "text/plain": [
       "B-      2383\n",
       "B       2170\n",
       "B+      1438\n",
       "A-      1151\n",
       "BBB-    1106\n",
       "BB+      932\n",
       "BB-      864\n",
       "BBB      817\n",
       "BBB+     696\n",
       "A        518\n",
       "A+       453\n",
       "CCC+     423\n",
       "D        206\n",
       "AA-      192\n",
       "CCC      177\n",
       "AA        76\n",
       "CCC-      65\n",
       "AAA       30\n",
       "CC        22\n",
       "AA+       20\n",
       "C         12\n",
       "BB         5\n",
       "Name: spsdrm, dtype: int64"
      ]
     },
     "execution_count": 5,
     "metadata": {},
     "output_type": "execute_result"
    }
   ],
   "source": [
    "df['spsdrm'].value_counts()"
   ]
  },
  {
   "cell_type": "code",
   "execution_count": 6,
   "metadata": {},
   "outputs": [
    {
     "data": {
      "text/plain": [
       "A-2     68957\n",
       "A-1     44184\n",
       "A-1+    23304\n",
       "A-3     10871\n",
       "B        4062\n",
       "B-2      1128\n",
       "B-1       744\n",
       "C         593\n",
       "B-3       435\n",
       "D         368\n",
       "SD         10\n",
       "Name: spsticrm, dtype: int64"
      ]
     },
     "execution_count": 6,
     "metadata": {},
     "output_type": "execute_result"
    }
   ],
   "source": [
    "df['spsticrm'].value_counts()"
   ]
  },
  {
   "cell_type": "code",
   "execution_count": 7,
   "metadata": {},
   "outputs": [
    {
     "data": {
      "text/plain": [
       "C      395384\n",
       "B-     251865\n",
       "B      194856\n",
       "B+     155963\n",
       "D      107625\n",
       "A-      57821\n",
       "A       42623\n",
       "A+      12578\n",
       "LIQ      1248\n",
       "Name: spcsrc, dtype: int64"
      ]
     },
     "execution_count": 7,
     "metadata": {},
     "output_type": "execute_result"
    }
   ],
   "source": [
    "df['spcsrc'].value_counts()"
   ]
  },
  {
   "cell_type": "code",
   "execution_count": 8,
   "metadata": {},
   "outputs": [],
   "source": [
    "lista= ['splticrm','spsdrm','spsticrm','spcsrc']"
   ]
  },
  {
   "cell_type": "code",
   "execution_count": 9,
   "metadata": {},
   "outputs": [
    {
     "name": "stdout",
     "output_type": "stream",
     "text": [
      "splticrm : 1884358\n",
      "spsdrm : 2373710\n",
      "spsticrm : 2232810\n",
      "spcsrc : 1167503\n"
     ]
    }
   ],
   "source": [
    "for i in lista:\n",
    "    print(i,':',df[i].isnull().sum())"
   ]
  },
  {
   "cell_type": "code",
   "execution_count": 10,
   "metadata": {},
   "outputs": [],
   "source": [
    "mask = df['splticrm'].isna() | df['spsticrm'].isna()"
   ]
  },
  {
   "cell_type": "code",
   "execution_count": 11,
   "metadata": {},
   "outputs": [
    {
     "data": {
      "text/html": [
       "<div>\n",
       "<style scoped>\n",
       "    .dataframe tbody tr th:only-of-type {\n",
       "        vertical-align: middle;\n",
       "    }\n",
       "\n",
       "    .dataframe tbody tr th {\n",
       "        vertical-align: top;\n",
       "    }\n",
       "\n",
       "    .dataframe thead th {\n",
       "        text-align: right;\n",
       "    }\n",
       "</style>\n",
       "<table border=\"1\" class=\"dataframe\">\n",
       "  <thead>\n",
       "    <tr style=\"text-align: right;\">\n",
       "      <th></th>\n",
       "      <th>gvkey</th>\n",
       "      <th>splticrm</th>\n",
       "      <th>spsticrm</th>\n",
       "      <th>cik</th>\n",
       "    </tr>\n",
       "  </thead>\n",
       "  <tbody>\n",
       "    <tr>\n",
       "      <td>1679</td>\n",
       "      <td>1045</td>\n",
       "      <td>B-</td>\n",
       "      <td>B-3</td>\n",
       "      <td>6201.0</td>\n",
       "    </tr>\n",
       "    <tr>\n",
       "      <td>1680</td>\n",
       "      <td>1045</td>\n",
       "      <td>B-</td>\n",
       "      <td>B-3</td>\n",
       "      <td>6201.0</td>\n",
       "    </tr>\n",
       "    <tr>\n",
       "      <td>1681</td>\n",
       "      <td>1045</td>\n",
       "      <td>B-</td>\n",
       "      <td>B-3</td>\n",
       "      <td>6201.0</td>\n",
       "    </tr>\n",
       "    <tr>\n",
       "      <td>1682</td>\n",
       "      <td>1045</td>\n",
       "      <td>B-</td>\n",
       "      <td>B-3</td>\n",
       "      <td>6201.0</td>\n",
       "    </tr>\n",
       "    <tr>\n",
       "      <td>1683</td>\n",
       "      <td>1045</td>\n",
       "      <td>B-</td>\n",
       "      <td>B-3</td>\n",
       "      <td>6201.0</td>\n",
       "    </tr>\n",
       "    <tr>\n",
       "      <td>...</td>\n",
       "      <td>...</td>\n",
       "      <td>...</td>\n",
       "      <td>...</td>\n",
       "      <td>...</td>\n",
       "    </tr>\n",
       "    <tr>\n",
       "      <td>2387171</td>\n",
       "      <td>295786</td>\n",
       "      <td>BB+</td>\n",
       "      <td>B</td>\n",
       "      <td>1567094.0</td>\n",
       "    </tr>\n",
       "    <tr>\n",
       "      <td>2387172</td>\n",
       "      <td>295786</td>\n",
       "      <td>BB+</td>\n",
       "      <td>B</td>\n",
       "      <td>1567094.0</td>\n",
       "    </tr>\n",
       "    <tr>\n",
       "      <td>2387173</td>\n",
       "      <td>295786</td>\n",
       "      <td>BB+</td>\n",
       "      <td>B</td>\n",
       "      <td>1567094.0</td>\n",
       "    </tr>\n",
       "    <tr>\n",
       "      <td>2387174</td>\n",
       "      <td>295786</td>\n",
       "      <td>BB+</td>\n",
       "      <td>B</td>\n",
       "      <td>1567094.0</td>\n",
       "    </tr>\n",
       "    <tr>\n",
       "      <td>2387175</td>\n",
       "      <td>295786</td>\n",
       "      <td>BB+</td>\n",
       "      <td>B</td>\n",
       "      <td>1567094.0</td>\n",
       "    </tr>\n",
       "  </tbody>\n",
       "</table>\n",
       "<p>151191 rows × 4 columns</p>\n",
       "</div>"
      ],
      "text/plain": [
       "          gvkey splticrm spsticrm        cik\n",
       "1679       1045       B-      B-3     6201.0\n",
       "1680       1045       B-      B-3     6201.0\n",
       "1681       1045       B-      B-3     6201.0\n",
       "1682       1045       B-      B-3     6201.0\n",
       "1683       1045       B-      B-3     6201.0\n",
       "...         ...      ...      ...        ...\n",
       "2387171  295786      BB+        B  1567094.0\n",
       "2387172  295786      BB+        B  1567094.0\n",
       "2387173  295786      BB+        B  1567094.0\n",
       "2387174  295786      BB+        B  1567094.0\n",
       "2387175  295786      BB+        B  1567094.0\n",
       "\n",
       "[151191 rows x 4 columns]"
      ]
     },
     "execution_count": 11,
     "metadata": {},
     "output_type": "execute_result"
    }
   ],
   "source": [
    "df[-mask][['gvkey','splticrm','spsticrm','cik']]"
   ]
  },
  {
   "cell_type": "markdown",
   "metadata": {},
   "source": [
    "# Return"
   ]
  },
  {
   "cell_type": "code",
   "execution_count": 12,
   "metadata": {},
   "outputs": [
    {
     "name": "stderr",
     "output_type": "stream",
     "text": [
      "C:\\Users\\Joseph\\Anaconda3\\lib\\site-packages\\IPython\\core\\interactiveshell.py:3058: DtypeWarning: Columns (1,29,30,33,35,36,45,49,50,51,57,59,67,71,72,77,78) have mixed types. Specify dtype option on import or set low_memory=False.\n",
      "  interactivity=interactivity, compiler=compiler, result=result)\n"
     ]
    }
   ],
   "source": [
    "returns = pd.read_csv('compustat_daily_prices_1997_02_to_latest.csv')"
   ]
  },
  {
   "cell_type": "code",
   "execution_count": 13,
   "metadata": {},
   "outputs": [
    {
     "data": {
      "text/html": [
       "<div>\n",
       "<style scoped>\n",
       "    .dataframe tbody tr th:only-of-type {\n",
       "        vertical-align: middle;\n",
       "    }\n",
       "\n",
       "    .dataframe tbody tr th {\n",
       "        vertical-align: top;\n",
       "    }\n",
       "\n",
       "    .dataframe thead th {\n",
       "        text-align: right;\n",
       "    }\n",
       "</style>\n",
       "<table border=\"1\" class=\"dataframe\">\n",
       "  <thead>\n",
       "    <tr style=\"text-align: right;\">\n",
       "      <th></th>\n",
       "      <th>gvkey</th>\n",
       "      <th>iid</th>\n",
       "      <th>datadate</th>\n",
       "      <th>tic</th>\n",
       "      <th>cusip</th>\n",
       "      <th>conm</th>\n",
       "      <th>ajexm</th>\n",
       "      <th>ajpm</th>\n",
       "      <th>isalrt</th>\n",
       "      <th>primiss</th>\n",
       "      <th>...</th>\n",
       "      <th>priusa</th>\n",
       "      <th>sic</th>\n",
       "      <th>spcindcd</th>\n",
       "      <th>spcseccd</th>\n",
       "      <th>spcsrc</th>\n",
       "      <th>state</th>\n",
       "      <th>stko</th>\n",
       "      <th>weburl</th>\n",
       "      <th>dldte</th>\n",
       "      <th>ipodate</th>\n",
       "    </tr>\n",
       "  </thead>\n",
       "  <tbody>\n",
       "    <tr>\n",
       "      <td>0</td>\n",
       "      <td>1003</td>\n",
       "      <td>01</td>\n",
       "      <td>19970131</td>\n",
       "      <td>ANTQ</td>\n",
       "      <td>000354100</td>\n",
       "      <td>A.A. IMPORTING CO INC</td>\n",
       "      <td>1.0</td>\n",
       "      <td>1.0</td>\n",
       "      <td>NaN</td>\n",
       "      <td>P</td>\n",
       "      <td>...</td>\n",
       "      <td>1.0</td>\n",
       "      <td>5712.0</td>\n",
       "      <td>449.0</td>\n",
       "      <td>976.0</td>\n",
       "      <td>NaN</td>\n",
       "      <td>MO</td>\n",
       "      <td>3.0</td>\n",
       "      <td>www.aaimporting.com</td>\n",
       "      <td>19920430.0</td>\n",
       "      <td>NaN</td>\n",
       "    </tr>\n",
       "    <tr>\n",
       "      <td>1</td>\n",
       "      <td>1003</td>\n",
       "      <td>01</td>\n",
       "      <td>19970228</td>\n",
       "      <td>ANTQ</td>\n",
       "      <td>000354100</td>\n",
       "      <td>A.A. IMPORTING CO INC</td>\n",
       "      <td>1.0</td>\n",
       "      <td>1.0</td>\n",
       "      <td>NaN</td>\n",
       "      <td>P</td>\n",
       "      <td>...</td>\n",
       "      <td>1.0</td>\n",
       "      <td>5712.0</td>\n",
       "      <td>449.0</td>\n",
       "      <td>976.0</td>\n",
       "      <td>NaN</td>\n",
       "      <td>MO</td>\n",
       "      <td>3.0</td>\n",
       "      <td>www.aaimporting.com</td>\n",
       "      <td>19920430.0</td>\n",
       "      <td>NaN</td>\n",
       "    </tr>\n",
       "    <tr>\n",
       "      <td>2</td>\n",
       "      <td>1003</td>\n",
       "      <td>01</td>\n",
       "      <td>19970331</td>\n",
       "      <td>ANTQ</td>\n",
       "      <td>000354100</td>\n",
       "      <td>A.A. IMPORTING CO INC</td>\n",
       "      <td>1.0</td>\n",
       "      <td>1.0</td>\n",
       "      <td>NaN</td>\n",
       "      <td>P</td>\n",
       "      <td>...</td>\n",
       "      <td>1.0</td>\n",
       "      <td>5712.0</td>\n",
       "      <td>449.0</td>\n",
       "      <td>976.0</td>\n",
       "      <td>NaN</td>\n",
       "      <td>MO</td>\n",
       "      <td>3.0</td>\n",
       "      <td>www.aaimporting.com</td>\n",
       "      <td>19920430.0</td>\n",
       "      <td>NaN</td>\n",
       "    </tr>\n",
       "    <tr>\n",
       "      <td>3</td>\n",
       "      <td>1003</td>\n",
       "      <td>01</td>\n",
       "      <td>19970430</td>\n",
       "      <td>ANTQ</td>\n",
       "      <td>000354100</td>\n",
       "      <td>A.A. IMPORTING CO INC</td>\n",
       "      <td>1.0</td>\n",
       "      <td>1.0</td>\n",
       "      <td>NaN</td>\n",
       "      <td>P</td>\n",
       "      <td>...</td>\n",
       "      <td>1.0</td>\n",
       "      <td>5712.0</td>\n",
       "      <td>449.0</td>\n",
       "      <td>976.0</td>\n",
       "      <td>NaN</td>\n",
       "      <td>MO</td>\n",
       "      <td>3.0</td>\n",
       "      <td>www.aaimporting.com</td>\n",
       "      <td>19920430.0</td>\n",
       "      <td>NaN</td>\n",
       "    </tr>\n",
       "    <tr>\n",
       "      <td>4</td>\n",
       "      <td>1003</td>\n",
       "      <td>01</td>\n",
       "      <td>19970531</td>\n",
       "      <td>ANTQ</td>\n",
       "      <td>000354100</td>\n",
       "      <td>A.A. IMPORTING CO INC</td>\n",
       "      <td>1.0</td>\n",
       "      <td>1.0</td>\n",
       "      <td>NaN</td>\n",
       "      <td>P</td>\n",
       "      <td>...</td>\n",
       "      <td>1.0</td>\n",
       "      <td>5712.0</td>\n",
       "      <td>449.0</td>\n",
       "      <td>976.0</td>\n",
       "      <td>NaN</td>\n",
       "      <td>MO</td>\n",
       "      <td>3.0</td>\n",
       "      <td>www.aaimporting.com</td>\n",
       "      <td>19920430.0</td>\n",
       "      <td>NaN</td>\n",
       "    </tr>\n",
       "  </tbody>\n",
       "</table>\n",
       "<p>5 rows × 83 columns</p>\n",
       "</div>"
      ],
      "text/plain": [
       "   gvkey iid  datadate   tic      cusip                   conm  ajexm  ajpm  \\\n",
       "0   1003  01  19970131  ANTQ  000354100  A.A. IMPORTING CO INC    1.0   1.0   \n",
       "1   1003  01  19970228  ANTQ  000354100  A.A. IMPORTING CO INC    1.0   1.0   \n",
       "2   1003  01  19970331  ANTQ  000354100  A.A. IMPORTING CO INC    1.0   1.0   \n",
       "3   1003  01  19970430  ANTQ  000354100  A.A. IMPORTING CO INC    1.0   1.0   \n",
       "4   1003  01  19970531  ANTQ  000354100  A.A. IMPORTING CO INC    1.0   1.0   \n",
       "\n",
       "  isalrt primiss  ...  priusa     sic  spcindcd  spcseccd spcsrc  state  stko  \\\n",
       "0    NaN       P  ...     1.0  5712.0     449.0     976.0    NaN     MO   3.0   \n",
       "1    NaN       P  ...     1.0  5712.0     449.0     976.0    NaN     MO   3.0   \n",
       "2    NaN       P  ...     1.0  5712.0     449.0     976.0    NaN     MO   3.0   \n",
       "3    NaN       P  ...     1.0  5712.0     449.0     976.0    NaN     MO   3.0   \n",
       "4    NaN       P  ...     1.0  5712.0     449.0     976.0    NaN     MO   3.0   \n",
       "\n",
       "                weburl       dldte  ipodate  \n",
       "0  www.aaimporting.com  19920430.0      NaN  \n",
       "1  www.aaimporting.com  19920430.0      NaN  \n",
       "2  www.aaimporting.com  19920430.0      NaN  \n",
       "3  www.aaimporting.com  19920430.0      NaN  \n",
       "4  www.aaimporting.com  19920430.0      NaN  \n",
       "\n",
       "[5 rows x 83 columns]"
      ]
     },
     "execution_count": 13,
     "metadata": {},
     "output_type": "execute_result"
    }
   ],
   "source": [
    "returns.head()"
   ]
  },
  {
   "cell_type": "code",
   "execution_count": 14,
   "metadata": {},
   "outputs": [],
   "source": [
    "returns['datadate']=(pd.to_datetime(returns['datadate'],format='%Y%m%d'))\n"
   ]
  },
  {
   "cell_type": "code",
   "execution_count": 15,
   "metadata": {},
   "outputs": [],
   "source": [
    "returns['month']= returns['datadate'].dt.month\n",
    "returns['year']= returns['datadate'].dt.year\n"
   ]
  },
  {
   "cell_type": "code",
   "execution_count": 16,
   "metadata": {},
   "outputs": [],
   "source": [
    "returns['mkcap']= returns['cshom']* returns['prccm']"
   ]
  },
  {
   "cell_type": "code",
   "execution_count": 17,
   "metadata": {},
   "outputs": [],
   "source": [
    "# Shift the stock by 1 month\n",
    "mask = returns['cik']==returns['cik'].shift(-1)\n",
    "returns['nextmonth_return']= np.where(mask,returns['trt1m'].shift(-1),np.nan)"
   ]
  },
  {
   "cell_type": "code",
   "execution_count": 19,
   "metadata": {},
   "outputs": [],
   "source": [
    "# returns"
   ]
  },
  {
   "cell_type": "code",
   "execution_count": 20,
   "metadata": {},
   "outputs": [],
   "source": [
    "returns= returns[['cik','prccm','year','month','datadate','trt1m','cshom','mkcap','tic','nextmonth_return']]\n",
    "\n",
    "# CIK unique company identifier\n",
    "# PRCCM close price\n",
    "# CMTH month, CYEAR year\n",
    "# datadate\n",
    "# TRT1M monthly total return: monthly multiplication factor for calculating the total return to shareholders of any time period.\n",
    "# includes Cash Equivalent Distributions (from 01-31-1982 and forward) along with reinvestment of dividends and the compounding effect of dividends paid on reinvested dividends.\n",
    "# 'cshom' s/o monthly, 'chsoq' s/o quarterly"
   ]
  },
  {
   "cell_type": "code",
   "execution_count": 21,
   "metadata": {},
   "outputs": [
    {
     "data": {
      "text/html": [
       "<div>\n",
       "<style scoped>\n",
       "    .dataframe tbody tr th:only-of-type {\n",
       "        vertical-align: middle;\n",
       "    }\n",
       "\n",
       "    .dataframe tbody tr th {\n",
       "        vertical-align: top;\n",
       "    }\n",
       "\n",
       "    .dataframe thead th {\n",
       "        text-align: right;\n",
       "    }\n",
       "</style>\n",
       "<table border=\"1\" class=\"dataframe\">\n",
       "  <thead>\n",
       "    <tr style=\"text-align: right;\">\n",
       "      <th></th>\n",
       "      <th>cik</th>\n",
       "      <th>prccm</th>\n",
       "      <th>year</th>\n",
       "      <th>month</th>\n",
       "      <th>datadate</th>\n",
       "      <th>trt1m</th>\n",
       "      <th>cshom</th>\n",
       "      <th>mkcap</th>\n",
       "      <th>tic</th>\n",
       "      <th>nextmonth_return</th>\n",
       "    </tr>\n",
       "  </thead>\n",
       "  <tbody>\n",
       "    <tr>\n",
       "      <td>36629</td>\n",
       "      <td>320193.0</td>\n",
       "      <td>16.625</td>\n",
       "      <td>1997</td>\n",
       "      <td>1</td>\n",
       "      <td>1997-01-31</td>\n",
       "      <td>-20.3593</td>\n",
       "      <td>NaN</td>\n",
       "      <td>NaN</td>\n",
       "      <td>AAPL</td>\n",
       "      <td>-2.2556</td>\n",
       "    </tr>\n",
       "    <tr>\n",
       "      <td>36630</td>\n",
       "      <td>320193.0</td>\n",
       "      <td>16.250</td>\n",
       "      <td>1997</td>\n",
       "      <td>2</td>\n",
       "      <td>1997-02-28</td>\n",
       "      <td>-2.2556</td>\n",
       "      <td>NaN</td>\n",
       "      <td>NaN</td>\n",
       "      <td>AAPL</td>\n",
       "      <td>12.3077</td>\n",
       "    </tr>\n",
       "    <tr>\n",
       "      <td>36631</td>\n",
       "      <td>320193.0</td>\n",
       "      <td>18.250</td>\n",
       "      <td>1997</td>\n",
       "      <td>3</td>\n",
       "      <td>1997-03-31</td>\n",
       "      <td>12.3077</td>\n",
       "      <td>NaN</td>\n",
       "      <td>NaN</td>\n",
       "      <td>AAPL</td>\n",
       "      <td>-6.8493</td>\n",
       "    </tr>\n",
       "    <tr>\n",
       "      <td>36632</td>\n",
       "      <td>320193.0</td>\n",
       "      <td>17.000</td>\n",
       "      <td>1997</td>\n",
       "      <td>4</td>\n",
       "      <td>1997-04-30</td>\n",
       "      <td>-6.8493</td>\n",
       "      <td>NaN</td>\n",
       "      <td>NaN</td>\n",
       "      <td>AAPL</td>\n",
       "      <td>-2.2059</td>\n",
       "    </tr>\n",
       "    <tr>\n",
       "      <td>36633</td>\n",
       "      <td>320193.0</td>\n",
       "      <td>16.625</td>\n",
       "      <td>1997</td>\n",
       "      <td>5</td>\n",
       "      <td>1997-05-31</td>\n",
       "      <td>-2.2059</td>\n",
       "      <td>NaN</td>\n",
       "      <td>NaN</td>\n",
       "      <td>AAPL</td>\n",
       "      <td>-14.2857</td>\n",
       "    </tr>\n",
       "    <tr>\n",
       "      <td>...</td>\n",
       "      <td>...</td>\n",
       "      <td>...</td>\n",
       "      <td>...</td>\n",
       "      <td>...</td>\n",
       "      <td>...</td>\n",
       "      <td>...</td>\n",
       "      <td>...</td>\n",
       "      <td>...</td>\n",
       "      <td>...</td>\n",
       "      <td>...</td>\n",
       "    </tr>\n",
       "    <tr>\n",
       "      <td>36902</td>\n",
       "      <td>320193.0</td>\n",
       "      <td>248.760</td>\n",
       "      <td>2019</td>\n",
       "      <td>10</td>\n",
       "      <td>2019-10-31</td>\n",
       "      <td>11.0684</td>\n",
       "      <td>4.443265e+09</td>\n",
       "      <td>1.105307e+12</td>\n",
       "      <td>AAPL</td>\n",
       "      <td>7.7424</td>\n",
       "    </tr>\n",
       "    <tr>\n",
       "      <td>36903</td>\n",
       "      <td>320193.0</td>\n",
       "      <td>267.250</td>\n",
       "      <td>2019</td>\n",
       "      <td>11</td>\n",
       "      <td>2019-11-30</td>\n",
       "      <td>7.7424</td>\n",
       "      <td>4.443265e+09</td>\n",
       "      <td>1.187463e+12</td>\n",
       "      <td>AAPL</td>\n",
       "      <td>9.8784</td>\n",
       "    </tr>\n",
       "    <tr>\n",
       "      <td>36904</td>\n",
       "      <td>320193.0</td>\n",
       "      <td>293.650</td>\n",
       "      <td>2019</td>\n",
       "      <td>12</td>\n",
       "      <td>2019-12-31</td>\n",
       "      <td>9.8784</td>\n",
       "      <td>4.443265e+09</td>\n",
       "      <td>1.304765e+12</td>\n",
       "      <td>AAPL</td>\n",
       "      <td>5.4010</td>\n",
       "    </tr>\n",
       "    <tr>\n",
       "      <td>36905</td>\n",
       "      <td>320193.0</td>\n",
       "      <td>309.510</td>\n",
       "      <td>2020</td>\n",
       "      <td>1</td>\n",
       "      <td>2020-01-31</td>\n",
       "      <td>5.4010</td>\n",
       "      <td>4.375480e+09</td>\n",
       "      <td>1.354255e+12</td>\n",
       "      <td>AAPL</td>\n",
       "      <td>NaN</td>\n",
       "    </tr>\n",
       "    <tr>\n",
       "      <td>36906</td>\n",
       "      <td>320193.0</td>\n",
       "      <td>NaN</td>\n",
       "      <td>2020</td>\n",
       "      <td>2</td>\n",
       "      <td>2020-02-29</td>\n",
       "      <td>NaN</td>\n",
       "      <td>NaN</td>\n",
       "      <td>NaN</td>\n",
       "      <td>AAPL</td>\n",
       "      <td>NaN</td>\n",
       "    </tr>\n",
       "  </tbody>\n",
       "</table>\n",
       "<p>278 rows × 10 columns</p>\n",
       "</div>"
      ],
      "text/plain": [
       "            cik    prccm  year  month   datadate    trt1m         cshom  \\\n",
       "36629  320193.0   16.625  1997      1 1997-01-31 -20.3593           NaN   \n",
       "36630  320193.0   16.250  1997      2 1997-02-28  -2.2556           NaN   \n",
       "36631  320193.0   18.250  1997      3 1997-03-31  12.3077           NaN   \n",
       "36632  320193.0   17.000  1997      4 1997-04-30  -6.8493           NaN   \n",
       "36633  320193.0   16.625  1997      5 1997-05-31  -2.2059           NaN   \n",
       "...         ...      ...   ...    ...        ...      ...           ...   \n",
       "36902  320193.0  248.760  2019     10 2019-10-31  11.0684  4.443265e+09   \n",
       "36903  320193.0  267.250  2019     11 2019-11-30   7.7424  4.443265e+09   \n",
       "36904  320193.0  293.650  2019     12 2019-12-31   9.8784  4.443265e+09   \n",
       "36905  320193.0  309.510  2020      1 2020-01-31   5.4010  4.375480e+09   \n",
       "36906  320193.0      NaN  2020      2 2020-02-29      NaN           NaN   \n",
       "\n",
       "              mkcap   tic  nextmonth_return  \n",
       "36629           NaN  AAPL           -2.2556  \n",
       "36630           NaN  AAPL           12.3077  \n",
       "36631           NaN  AAPL           -6.8493  \n",
       "36632           NaN  AAPL           -2.2059  \n",
       "36633           NaN  AAPL          -14.2857  \n",
       "...             ...   ...               ...  \n",
       "36902  1.105307e+12  AAPL            7.7424  \n",
       "36903  1.187463e+12  AAPL            9.8784  \n",
       "36904  1.304765e+12  AAPL            5.4010  \n",
       "36905  1.354255e+12  AAPL               NaN  \n",
       "36906           NaN  AAPL               NaN  \n",
       "\n",
       "[278 rows x 10 columns]"
      ]
     },
     "execution_count": 21,
     "metadata": {},
     "output_type": "execute_result"
    }
   ],
   "source": [
    "returns[returns['tic']=='AAPL']"
   ]
  },
  {
   "cell_type": "code",
   "execution_count": 22,
   "metadata": {},
   "outputs": [],
   "source": [
    "filtercap= returns['mkcap'].isna()| returns['cik'].isna()"
   ]
  },
  {
   "cell_type": "code",
   "execution_count": 23,
   "metadata": {},
   "outputs": [],
   "source": [
    "returns= returns[-filtercap]"
   ]
  },
  {
   "cell_type": "code",
   "execution_count": 24,
   "metadata": {},
   "outputs": [
    {
     "data": {
      "text/html": [
       "<div>\n",
       "<style scoped>\n",
       "    .dataframe tbody tr th:only-of-type {\n",
       "        vertical-align: middle;\n",
       "    }\n",
       "\n",
       "    .dataframe tbody tr th {\n",
       "        vertical-align: top;\n",
       "    }\n",
       "\n",
       "    .dataframe thead th {\n",
       "        text-align: right;\n",
       "    }\n",
       "</style>\n",
       "<table border=\"1\" class=\"dataframe\">\n",
       "  <thead>\n",
       "    <tr style=\"text-align: right;\">\n",
       "      <th></th>\n",
       "      <th>cik</th>\n",
       "      <th>prccm</th>\n",
       "      <th>year</th>\n",
       "      <th>month</th>\n",
       "      <th>datadate</th>\n",
       "      <th>trt1m</th>\n",
       "      <th>cshom</th>\n",
       "      <th>mkcap</th>\n",
       "      <th>tic</th>\n",
       "      <th>nextmonth_return</th>\n",
       "    </tr>\n",
       "  </thead>\n",
       "  <tbody>\n",
       "    <tr>\n",
       "      <td>17</td>\n",
       "      <td>730052.0</td>\n",
       "      <td>0.008</td>\n",
       "      <td>2002</td>\n",
       "      <td>6</td>\n",
       "      <td>2002-06-30</td>\n",
       "      <td>NaN</td>\n",
       "      <td>2683000.0</td>\n",
       "      <td>21464.0</td>\n",
       "      <td>ANTQ</td>\n",
       "      <td>-87.5000</td>\n",
       "    </tr>\n",
       "    <tr>\n",
       "      <td>18</td>\n",
       "      <td>730052.0</td>\n",
       "      <td>0.001</td>\n",
       "      <td>2002</td>\n",
       "      <td>7</td>\n",
       "      <td>2002-07-31</td>\n",
       "      <td>-87.5000</td>\n",
       "      <td>2683000.0</td>\n",
       "      <td>2683.0</td>\n",
       "      <td>ANTQ</td>\n",
       "      <td>3900.0000</td>\n",
       "    </tr>\n",
       "    <tr>\n",
       "      <td>19</td>\n",
       "      <td>730052.0</td>\n",
       "      <td>0.040</td>\n",
       "      <td>2002</td>\n",
       "      <td>8</td>\n",
       "      <td>2002-08-31</td>\n",
       "      <td>3900.0000</td>\n",
       "      <td>2683000.0</td>\n",
       "      <td>107320.0</td>\n",
       "      <td>ANTQ</td>\n",
       "      <td>0.0000</td>\n",
       "    </tr>\n",
       "    <tr>\n",
       "      <td>20</td>\n",
       "      <td>730052.0</td>\n",
       "      <td>0.040</td>\n",
       "      <td>2002</td>\n",
       "      <td>9</td>\n",
       "      <td>2002-09-30</td>\n",
       "      <td>0.0000</td>\n",
       "      <td>2683000.0</td>\n",
       "      <td>107320.0</td>\n",
       "      <td>ANTQ</td>\n",
       "      <td>0.0000</td>\n",
       "    </tr>\n",
       "    <tr>\n",
       "      <td>21</td>\n",
       "      <td>730052.0</td>\n",
       "      <td>0.040</td>\n",
       "      <td>2002</td>\n",
       "      <td>10</td>\n",
       "      <td>2002-10-31</td>\n",
       "      <td>0.0000</td>\n",
       "      <td>2683000.0</td>\n",
       "      <td>107320.0</td>\n",
       "      <td>ANTQ</td>\n",
       "      <td>0.0000</td>\n",
       "    </tr>\n",
       "    <tr>\n",
       "      <td>...</td>\n",
       "      <td>...</td>\n",
       "      <td>...</td>\n",
       "      <td>...</td>\n",
       "      <td>...</td>\n",
       "      <td>...</td>\n",
       "      <td>...</td>\n",
       "      <td>...</td>\n",
       "      <td>...</td>\n",
       "      <td>...</td>\n",
       "      <td>...</td>\n",
       "    </tr>\n",
       "    <tr>\n",
       "      <td>4615090</td>\n",
       "      <td>921114.0</td>\n",
       "      <td>3.700</td>\n",
       "      <td>2019</td>\n",
       "      <td>9</td>\n",
       "      <td>2019-09-30</td>\n",
       "      <td>-16.8932</td>\n",
       "      <td>9959000.0</td>\n",
       "      <td>36848300.0</td>\n",
       "      <td>ARMP</td>\n",
       "      <td>12.1622</td>\n",
       "    </tr>\n",
       "    <tr>\n",
       "      <td>4615091</td>\n",
       "      <td>921114.0</td>\n",
       "      <td>4.150</td>\n",
       "      <td>2019</td>\n",
       "      <td>10</td>\n",
       "      <td>2019-10-31</td>\n",
       "      <td>12.1622</td>\n",
       "      <td>9934000.0</td>\n",
       "      <td>41226100.0</td>\n",
       "      <td>ARMP</td>\n",
       "      <td>5.5422</td>\n",
       "    </tr>\n",
       "    <tr>\n",
       "      <td>4615092</td>\n",
       "      <td>921114.0</td>\n",
       "      <td>4.380</td>\n",
       "      <td>2019</td>\n",
       "      <td>11</td>\n",
       "      <td>2019-11-30</td>\n",
       "      <td>5.5422</td>\n",
       "      <td>9934000.0</td>\n",
       "      <td>43510920.0</td>\n",
       "      <td>ARMP</td>\n",
       "      <td>-25.7991</td>\n",
       "    </tr>\n",
       "    <tr>\n",
       "      <td>4615093</td>\n",
       "      <td>921114.0</td>\n",
       "      <td>3.250</td>\n",
       "      <td>2019</td>\n",
       "      <td>12</td>\n",
       "      <td>2019-12-31</td>\n",
       "      <td>-25.7991</td>\n",
       "      <td>9934000.0</td>\n",
       "      <td>32285500.0</td>\n",
       "      <td>ARMP</td>\n",
       "      <td>22.4615</td>\n",
       "    </tr>\n",
       "    <tr>\n",
       "      <td>4615094</td>\n",
       "      <td>921114.0</td>\n",
       "      <td>3.980</td>\n",
       "      <td>2020</td>\n",
       "      <td>1</td>\n",
       "      <td>2020-01-31</td>\n",
       "      <td>22.4615</td>\n",
       "      <td>9923000.0</td>\n",
       "      <td>39493540.0</td>\n",
       "      <td>ARMP</td>\n",
       "      <td>NaN</td>\n",
       "    </tr>\n",
       "  </tbody>\n",
       "</table>\n",
       "<p>3173885 rows × 10 columns</p>\n",
       "</div>"
      ],
      "text/plain": [
       "              cik  prccm  year  month   datadate      trt1m      cshom  \\\n",
       "17       730052.0  0.008  2002      6 2002-06-30        NaN  2683000.0   \n",
       "18       730052.0  0.001  2002      7 2002-07-31   -87.5000  2683000.0   \n",
       "19       730052.0  0.040  2002      8 2002-08-31  3900.0000  2683000.0   \n",
       "20       730052.0  0.040  2002      9 2002-09-30     0.0000  2683000.0   \n",
       "21       730052.0  0.040  2002     10 2002-10-31     0.0000  2683000.0   \n",
       "...           ...    ...   ...    ...        ...        ...        ...   \n",
       "4615090  921114.0  3.700  2019      9 2019-09-30   -16.8932  9959000.0   \n",
       "4615091  921114.0  4.150  2019     10 2019-10-31    12.1622  9934000.0   \n",
       "4615092  921114.0  4.380  2019     11 2019-11-30     5.5422  9934000.0   \n",
       "4615093  921114.0  3.250  2019     12 2019-12-31   -25.7991  9934000.0   \n",
       "4615094  921114.0  3.980  2020      1 2020-01-31    22.4615  9923000.0   \n",
       "\n",
       "              mkcap   tic  nextmonth_return  \n",
       "17          21464.0  ANTQ          -87.5000  \n",
       "18           2683.0  ANTQ         3900.0000  \n",
       "19         107320.0  ANTQ            0.0000  \n",
       "20         107320.0  ANTQ            0.0000  \n",
       "21         107320.0  ANTQ            0.0000  \n",
       "...             ...   ...               ...  \n",
       "4615090  36848300.0  ARMP           12.1622  \n",
       "4615091  41226100.0  ARMP            5.5422  \n",
       "4615092  43510920.0  ARMP          -25.7991  \n",
       "4615093  32285500.0  ARMP           22.4615  \n",
       "4615094  39493540.0  ARMP               NaN  \n",
       "\n",
       "[3173885 rows x 10 columns]"
      ]
     },
     "execution_count": 24,
     "metadata": {},
     "output_type": "execute_result"
    }
   ],
   "source": [
    "returns"
   ]
  },
  {
   "cell_type": "markdown",
   "metadata": {},
   "source": [
    "# rating preparation"
   ]
  },
  {
   "cell_type": "code",
   "execution_count": 25,
   "metadata": {},
   "outputs": [
    {
     "data": {
      "text/plain": [
       "['splticrm', 'spsdrm', 'spsticrm', 'spcsrc']"
      ]
     },
     "execution_count": 25,
     "metadata": {},
     "output_type": "execute_result"
    }
   ],
   "source": [
    "lista"
   ]
  },
  {
   "cell_type": "code",
   "execution_count": 26,
   "metadata": {},
   "outputs": [],
   "source": [
    "rating = df[['cik','splticrm', 'spsdrm', 'spsticrm', 'spcsrc','datadate']]"
   ]
  },
  {
   "cell_type": "code",
   "execution_count": 27,
   "metadata": {},
   "outputs": [
    {
     "name": "stderr",
     "output_type": "stream",
     "text": [
      "C:\\Users\\Joseph\\Anaconda3\\lib\\site-packages\\ipykernel_launcher.py:1: SettingWithCopyWarning: \n",
      "A value is trying to be set on a copy of a slice from a DataFrame.\n",
      "Try using .loc[row_indexer,col_indexer] = value instead\n",
      "\n",
      "See the caveats in the documentation: http://pandas.pydata.org/pandas-docs/stable/user_guide/indexing.html#returning-a-view-versus-a-copy\n",
      "  \"\"\"Entry point for launching an IPython kernel.\n",
      "C:\\Users\\Joseph\\Anaconda3\\lib\\site-packages\\ipykernel_launcher.py:2: SettingWithCopyWarning: \n",
      "A value is trying to be set on a copy of a slice from a DataFrame.\n",
      "Try using .loc[row_indexer,col_indexer] = value instead\n",
      "\n",
      "See the caveats in the documentation: http://pandas.pydata.org/pandas-docs/stable/user_guide/indexing.html#returning-a-view-versus-a-copy\n",
      "  \n",
      "C:\\Users\\Joseph\\Anaconda3\\lib\\site-packages\\ipykernel_launcher.py:3: SettingWithCopyWarning: \n",
      "A value is trying to be set on a copy of a slice from a DataFrame.\n",
      "Try using .loc[row_indexer,col_indexer] = value instead\n",
      "\n",
      "See the caveats in the documentation: http://pandas.pydata.org/pandas-docs/stable/user_guide/indexing.html#returning-a-view-versus-a-copy\n",
      "  This is separate from the ipykernel package so we can avoid doing imports until\n"
     ]
    }
   ],
   "source": [
    "rating['datadate']=(pd.to_datetime(rating['datadate'],format='%Y%m%d'))\n",
    "rating['month']= rating['datadate'].dt.month\n",
    "rating['year']= rating['datadate'].dt.year"
   ]
  },
  {
   "cell_type": "markdown",
   "metadata": {},
   "source": [
    "# Merged Dataset "
   ]
  },
  {
   "cell_type": "code",
   "execution_count": 28,
   "metadata": {},
   "outputs": [],
   "source": [
    "merge_dataset = pd.merge(returns,rating, left_on=['cik','year','month'], right_on= ['cik','year','month'], how='left')"
   ]
  },
  {
   "cell_type": "code",
   "execution_count": 29,
   "metadata": {},
   "outputs": [
    {
     "data": {
      "text/html": [
       "<div>\n",
       "<style scoped>\n",
       "    .dataframe tbody tr th:only-of-type {\n",
       "        vertical-align: middle;\n",
       "    }\n",
       "\n",
       "    .dataframe tbody tr th {\n",
       "        vertical-align: top;\n",
       "    }\n",
       "\n",
       "    .dataframe thead th {\n",
       "        text-align: right;\n",
       "    }\n",
       "</style>\n",
       "<table border=\"1\" class=\"dataframe\">\n",
       "  <thead>\n",
       "    <tr style=\"text-align: right;\">\n",
       "      <th></th>\n",
       "      <th>cik</th>\n",
       "      <th>prccm</th>\n",
       "      <th>year</th>\n",
       "      <th>month</th>\n",
       "      <th>datadate_x</th>\n",
       "      <th>trt1m</th>\n",
       "      <th>cshom</th>\n",
       "      <th>mkcap</th>\n",
       "      <th>tic</th>\n",
       "      <th>nextmonth_return</th>\n",
       "      <th>splticrm</th>\n",
       "      <th>spsdrm</th>\n",
       "      <th>spsticrm</th>\n",
       "      <th>spcsrc</th>\n",
       "      <th>datadate_y</th>\n",
       "    </tr>\n",
       "  </thead>\n",
       "  <tbody>\n",
       "    <tr>\n",
       "      <td>0</td>\n",
       "      <td>730052.0</td>\n",
       "      <td>0.008</td>\n",
       "      <td>2002</td>\n",
       "      <td>6</td>\n",
       "      <td>2002-06-30</td>\n",
       "      <td>NaN</td>\n",
       "      <td>2683000.0</td>\n",
       "      <td>21464.0</td>\n",
       "      <td>ANTQ</td>\n",
       "      <td>-87.5000</td>\n",
       "      <td>NaN</td>\n",
       "      <td>NaN</td>\n",
       "      <td>NaN</td>\n",
       "      <td>NaN</td>\n",
       "      <td>NaT</td>\n",
       "    </tr>\n",
       "    <tr>\n",
       "      <td>1</td>\n",
       "      <td>730052.0</td>\n",
       "      <td>0.001</td>\n",
       "      <td>2002</td>\n",
       "      <td>7</td>\n",
       "      <td>2002-07-31</td>\n",
       "      <td>-87.5000</td>\n",
       "      <td>2683000.0</td>\n",
       "      <td>2683.0</td>\n",
       "      <td>ANTQ</td>\n",
       "      <td>3900.0000</td>\n",
       "      <td>NaN</td>\n",
       "      <td>NaN</td>\n",
       "      <td>NaN</td>\n",
       "      <td>NaN</td>\n",
       "      <td>NaT</td>\n",
       "    </tr>\n",
       "    <tr>\n",
       "      <td>2</td>\n",
       "      <td>730052.0</td>\n",
       "      <td>0.040</td>\n",
       "      <td>2002</td>\n",
       "      <td>8</td>\n",
       "      <td>2002-08-31</td>\n",
       "      <td>3900.0000</td>\n",
       "      <td>2683000.0</td>\n",
       "      <td>107320.0</td>\n",
       "      <td>ANTQ</td>\n",
       "      <td>0.0000</td>\n",
       "      <td>NaN</td>\n",
       "      <td>NaN</td>\n",
       "      <td>NaN</td>\n",
       "      <td>NaN</td>\n",
       "      <td>NaT</td>\n",
       "    </tr>\n",
       "    <tr>\n",
       "      <td>3</td>\n",
       "      <td>730052.0</td>\n",
       "      <td>0.040</td>\n",
       "      <td>2002</td>\n",
       "      <td>9</td>\n",
       "      <td>2002-09-30</td>\n",
       "      <td>0.0000</td>\n",
       "      <td>2683000.0</td>\n",
       "      <td>107320.0</td>\n",
       "      <td>ANTQ</td>\n",
       "      <td>0.0000</td>\n",
       "      <td>NaN</td>\n",
       "      <td>NaN</td>\n",
       "      <td>NaN</td>\n",
       "      <td>NaN</td>\n",
       "      <td>NaT</td>\n",
       "    </tr>\n",
       "    <tr>\n",
       "      <td>4</td>\n",
       "      <td>730052.0</td>\n",
       "      <td>0.040</td>\n",
       "      <td>2002</td>\n",
       "      <td>10</td>\n",
       "      <td>2002-10-31</td>\n",
       "      <td>0.0000</td>\n",
       "      <td>2683000.0</td>\n",
       "      <td>107320.0</td>\n",
       "      <td>ANTQ</td>\n",
       "      <td>0.0000</td>\n",
       "      <td>NaN</td>\n",
       "      <td>NaN</td>\n",
       "      <td>NaN</td>\n",
       "      <td>NaN</td>\n",
       "      <td>NaT</td>\n",
       "    </tr>\n",
       "    <tr>\n",
       "      <td>...</td>\n",
       "      <td>...</td>\n",
       "      <td>...</td>\n",
       "      <td>...</td>\n",
       "      <td>...</td>\n",
       "      <td>...</td>\n",
       "      <td>...</td>\n",
       "      <td>...</td>\n",
       "      <td>...</td>\n",
       "      <td>...</td>\n",
       "      <td>...</td>\n",
       "      <td>...</td>\n",
       "      <td>...</td>\n",
       "      <td>...</td>\n",
       "      <td>...</td>\n",
       "      <td>...</td>\n",
       "    </tr>\n",
       "    <tr>\n",
       "      <td>3173880</td>\n",
       "      <td>921114.0</td>\n",
       "      <td>3.700</td>\n",
       "      <td>2019</td>\n",
       "      <td>9</td>\n",
       "      <td>2019-09-30</td>\n",
       "      <td>-16.8932</td>\n",
       "      <td>9959000.0</td>\n",
       "      <td>36848300.0</td>\n",
       "      <td>ARMP</td>\n",
       "      <td>12.1622</td>\n",
       "      <td>NaN</td>\n",
       "      <td>NaN</td>\n",
       "      <td>NaN</td>\n",
       "      <td>NaN</td>\n",
       "      <td>NaT</td>\n",
       "    </tr>\n",
       "    <tr>\n",
       "      <td>3173881</td>\n",
       "      <td>921114.0</td>\n",
       "      <td>4.150</td>\n",
       "      <td>2019</td>\n",
       "      <td>10</td>\n",
       "      <td>2019-10-31</td>\n",
       "      <td>12.1622</td>\n",
       "      <td>9934000.0</td>\n",
       "      <td>41226100.0</td>\n",
       "      <td>ARMP</td>\n",
       "      <td>5.5422</td>\n",
       "      <td>NaN</td>\n",
       "      <td>NaN</td>\n",
       "      <td>NaN</td>\n",
       "      <td>NaN</td>\n",
       "      <td>NaT</td>\n",
       "    </tr>\n",
       "    <tr>\n",
       "      <td>3173882</td>\n",
       "      <td>921114.0</td>\n",
       "      <td>4.380</td>\n",
       "      <td>2019</td>\n",
       "      <td>11</td>\n",
       "      <td>2019-11-30</td>\n",
       "      <td>5.5422</td>\n",
       "      <td>9934000.0</td>\n",
       "      <td>43510920.0</td>\n",
       "      <td>ARMP</td>\n",
       "      <td>-25.7991</td>\n",
       "      <td>NaN</td>\n",
       "      <td>NaN</td>\n",
       "      <td>NaN</td>\n",
       "      <td>NaN</td>\n",
       "      <td>NaT</td>\n",
       "    </tr>\n",
       "    <tr>\n",
       "      <td>3173883</td>\n",
       "      <td>921114.0</td>\n",
       "      <td>3.250</td>\n",
       "      <td>2019</td>\n",
       "      <td>12</td>\n",
       "      <td>2019-12-31</td>\n",
       "      <td>-25.7991</td>\n",
       "      <td>9934000.0</td>\n",
       "      <td>32285500.0</td>\n",
       "      <td>ARMP</td>\n",
       "      <td>22.4615</td>\n",
       "      <td>NaN</td>\n",
       "      <td>NaN</td>\n",
       "      <td>NaN</td>\n",
       "      <td>NaN</td>\n",
       "      <td>NaT</td>\n",
       "    </tr>\n",
       "    <tr>\n",
       "      <td>3173884</td>\n",
       "      <td>921114.0</td>\n",
       "      <td>3.980</td>\n",
       "      <td>2020</td>\n",
       "      <td>1</td>\n",
       "      <td>2020-01-31</td>\n",
       "      <td>22.4615</td>\n",
       "      <td>9923000.0</td>\n",
       "      <td>39493540.0</td>\n",
       "      <td>ARMP</td>\n",
       "      <td>NaN</td>\n",
       "      <td>NaN</td>\n",
       "      <td>NaN</td>\n",
       "      <td>NaN</td>\n",
       "      <td>NaN</td>\n",
       "      <td>NaT</td>\n",
       "    </tr>\n",
       "  </tbody>\n",
       "</table>\n",
       "<p>3173885 rows × 15 columns</p>\n",
       "</div>"
      ],
      "text/plain": [
       "              cik  prccm  year  month datadate_x      trt1m      cshom  \\\n",
       "0        730052.0  0.008  2002      6 2002-06-30        NaN  2683000.0   \n",
       "1        730052.0  0.001  2002      7 2002-07-31   -87.5000  2683000.0   \n",
       "2        730052.0  0.040  2002      8 2002-08-31  3900.0000  2683000.0   \n",
       "3        730052.0  0.040  2002      9 2002-09-30     0.0000  2683000.0   \n",
       "4        730052.0  0.040  2002     10 2002-10-31     0.0000  2683000.0   \n",
       "...           ...    ...   ...    ...        ...        ...        ...   \n",
       "3173880  921114.0  3.700  2019      9 2019-09-30   -16.8932  9959000.0   \n",
       "3173881  921114.0  4.150  2019     10 2019-10-31    12.1622  9934000.0   \n",
       "3173882  921114.0  4.380  2019     11 2019-11-30     5.5422  9934000.0   \n",
       "3173883  921114.0  3.250  2019     12 2019-12-31   -25.7991  9934000.0   \n",
       "3173884  921114.0  3.980  2020      1 2020-01-31    22.4615  9923000.0   \n",
       "\n",
       "              mkcap   tic  nextmonth_return splticrm spsdrm spsticrm spcsrc  \\\n",
       "0           21464.0  ANTQ          -87.5000      NaN    NaN      NaN    NaN   \n",
       "1            2683.0  ANTQ         3900.0000      NaN    NaN      NaN    NaN   \n",
       "2          107320.0  ANTQ            0.0000      NaN    NaN      NaN    NaN   \n",
       "3          107320.0  ANTQ            0.0000      NaN    NaN      NaN    NaN   \n",
       "4          107320.0  ANTQ            0.0000      NaN    NaN      NaN    NaN   \n",
       "...             ...   ...               ...      ...    ...      ...    ...   \n",
       "3173880  36848300.0  ARMP           12.1622      NaN    NaN      NaN    NaN   \n",
       "3173881  41226100.0  ARMP            5.5422      NaN    NaN      NaN    NaN   \n",
       "3173882  43510920.0  ARMP          -25.7991      NaN    NaN      NaN    NaN   \n",
       "3173883  32285500.0  ARMP           22.4615      NaN    NaN      NaN    NaN   \n",
       "3173884  39493540.0  ARMP               NaN      NaN    NaN      NaN    NaN   \n",
       "\n",
       "        datadate_y  \n",
       "0              NaT  \n",
       "1              NaT  \n",
       "2              NaT  \n",
       "3              NaT  \n",
       "4              NaT  \n",
       "...            ...  \n",
       "3173880        NaT  \n",
       "3173881        NaT  \n",
       "3173882        NaT  \n",
       "3173883        NaT  \n",
       "3173884        NaT  \n",
       "\n",
       "[3173885 rows x 15 columns]"
      ]
     },
     "execution_count": 29,
     "metadata": {},
     "output_type": "execute_result"
    }
   ],
   "source": [
    "merge_dataset"
   ]
  },
  {
   "cell_type": "code",
   "execution_count": 30,
   "metadata": {},
   "outputs": [
    {
     "data": {
      "text/plain": [
       "3867"
      ]
     },
     "execution_count": 30,
     "metadata": {},
     "output_type": "execute_result"
    }
   ],
   "source": [
    "merge_dataset[-merge_dataset['splticrm'].isna()]['cik'].nunique()"
   ]
  },
  {
   "cell_type": "code",
   "execution_count": 31,
   "metadata": {},
   "outputs": [],
   "source": [
    "#impor to csv so no need to rerun everything\n",
    "merge_dataset.to_csv('merge_dataset.csv')"
   ]
  },
  {
   "cell_type": "markdown",
   "metadata": {},
   "source": [
    "## read in merge_dataset from here"
   ]
  },
  {
   "cell_type": "code",
   "execution_count": 1,
   "metadata": {},
   "outputs": [
    {
     "ename": "NameError",
     "evalue": "name 'pd' is not defined",
     "output_type": "error",
     "traceback": [
      "\u001b[1;31m---------------------------------------------------------------------------\u001b[0m",
      "\u001b[1;31mNameError\u001b[0m                                 Traceback (most recent call last)",
      "\u001b[1;32m<ipython-input-1-d8cd72bf866d>\u001b[0m in \u001b[0;36m<module>\u001b[1;34m\u001b[0m\n\u001b[1;32m----> 1\u001b[1;33m \u001b[0mmerge_dataset\u001b[0m \u001b[1;33m=\u001b[0m \u001b[0mpd\u001b[0m\u001b[1;33m.\u001b[0m\u001b[0mread_csv\u001b[0m\u001b[1;33m(\u001b[0m\u001b[1;34m'merge_dataset.csv'\u001b[0m\u001b[1;33m)\u001b[0m\u001b[1;33m\u001b[0m\u001b[1;33m\u001b[0m\u001b[0m\n\u001b[0m",
      "\u001b[1;31mNameError\u001b[0m: name 'pd' is not defined"
     ]
    }
   ],
   "source": [
    "import pandas as pd\n",
    "merge_dataset = pd.read_csv('merge_dataset.csv')"
   ]
  },
  {
   "cell_type": "code",
   "execution_count": null,
   "metadata": {},
   "outputs": [],
   "source": [
    "# merge_dataset\n",
    "merge_dataset['day'] = 1\n",
    "merge_dataset['date'] = pd.to_datetime(merge_dataset[['year', 'month','day']])"
   ]
  },
  {
   "cell_type": "code",
   "execution_count": null,
   "metadata": {},
   "outputs": [],
   "source": [
    "merge_dataset['splticrm'] = merge_dataset['splticrm'].fillna('NO DATA')"
   ]
  },
  {
   "cell_type": "code",
   "execution_count": null,
   "metadata": {},
   "outputs": [],
   "source": [
    "merge_dataset.head()"
   ]
  },
  {
   "cell_type": "code",
   "execution_count": null,
   "metadata": {},
   "outputs": [],
   "source": [
    "# grouped = "
   ]
  },
  {
   "cell_type": "code",
   "execution_count": null,
   "metadata": {},
   "outputs": [],
   "source": [
    "# #calculate value weight for top\n",
    "# group = top.groupby('date')['tna'].sum().reset_index()\n",
    "# top = pd.merge(top, group, how='left', left_on='date', right_on='date', suffixes=('', '_top'))\n",
    "# top['value_weight'] = top['tna'] / top['tna_top']\n",
    "# top['m1_value'] = (top['m+1_ret'].astype(float))* top['value_weight'].astype(float)\n"
   ]
  },
  {
   "cell_type": "code",
   "execution_count": null,
   "metadata": {},
   "outputs": [],
   "source": [
    "merge_dataset.groupby(['splticrm','date'])['mkcap'].sum().reset_index()"
   ]
  },
  {
   "cell_type": "code",
   "execution_count": null,
   "metadata": {},
   "outputs": [],
   "source": [
    "total = merge_dataset.groupby(['splticrm','date'])['mkcap'].sum().reset_index()\n",
    "merge_dataset = pd.merge(merge_dataset, total, how='left', left_on= ['date','splticrm'], right_on=['date','splticrm'] , suffixes=('', '_total'))"
   ]
  },
  {
   "cell_type": "code",
   "execution_count": null,
   "metadata": {},
   "outputs": [],
   "source": [
    "merge_dataset['weight'] = merge_dataset['mkcap'] / merge_dataset['mkcap_total']\n",
    "merge_dataset['weight_return'] = merge_dataset['nextmonth_return'] * merge_dataset['weight']"
   ]
  },
  {
   "cell_type": "code",
   "execution_count": null,
   "metadata": {},
   "outputs": [],
   "source": [
    "# merge_dataset.groupby('date')['weight_return'].sum().to_csv('test.csv')"
   ]
  },
  {
   "cell_type": "code",
   "execution_count": null,
   "metadata": {},
   "outputs": [],
   "source": [
    "grouped =merge_dataset.groupby(['splticrm','year','month','date'])['weight_return'].agg(['sum','count']).reset_index()\n",
    "grouped = grouped.rename(columns = {'splticrm': 'rating'})"
   ]
  },
  {
   "cell_type": "code",
   "execution_count": null,
   "metadata": {},
   "outputs": [],
   "source": [
    "# grouped[grouped['rating'] == 'CCC']"
   ]
  },
  {
   "cell_type": "code",
   "execution_count": null,
   "metadata": {},
   "outputs": [],
   "source": [
    "# merge_dataset.groupby(['year','month','splticrm'])[['nextmonth_return']]#.count().to_csv('groupby_count.csv')\n",
    "# merge_dataset.groupby(['year','month','splticrm'])[['nextmonth_return']]#.count().to_csv('groupby_mean.csv')"
   ]
  },
  {
   "cell_type": "code",
   "execution_count": null,
   "metadata": {},
   "outputs": [],
   "source": [
    "rate_list = list(grouped['rating'].unique())"
   ]
  },
  {
   "cell_type": "code",
   "execution_count": null,
   "metadata": {},
   "outputs": [],
   "source": [
    "grouped"
   ]
  },
  {
   "cell_type": "code",
   "execution_count": null,
   "metadata": {},
   "outputs": [],
   "source": [
    "for i in rate_list:\n",
    "#     plt.figure(figsize=(10,10))\n",
    "    mask = grouped['rating'] == i\n",
    "    ax = grouped[mask].plot(x = 'date', y = 'sum', title = i, color = 'teal', figsize = (15,5))\n",
    "    plt.ylabel('average return')\n",
    "    ax.yaxis.set_major_formatter(mtick.PercentFormatter())\n",
    "    plt.show()\n",
    "    \n"
   ]
  },
  {
   "cell_type": "code",
   "execution_count": null,
   "metadata": {},
   "outputs": [],
   "source": [
    "plt.figure(figsize=(10,5))\n",
    "mask = grouped['rating'] == 'A'\n",
    "\n",
    "ax = grouped[mask].plot(x = 'date', y = 'sum')\n",
    "plt.ylabel('average return')\n",
    "ax.yaxis.set_major_formatter(mtick.PercentFormatter())\n",
    "plt.show()\n",
    "\n",
    "# df.plot(x=\"R\", y=[\"F10.7\", \"Dst\"], style='.')"
   ]
  },
  {
   "cell_type": "code",
   "execution_count": null,
   "metadata": {},
   "outputs": [],
   "source": [
    "# for i in ['AAA','BBB','CCC']:\n",
    "mask = grouped['rating'] == 'AAA'\n",
    "df_AAA = grouped[mask]\n",
    "ax=df_AAA.plot(x = 'date', y = 'sum', title = 'Market Cap Weighted Average Monthly Return by Rating', color = 'teal', figsize = (15,5), label = 'AAA')\n",
    "\n",
    "mask = grouped['rating'] == 'BBB'\n",
    "df_BBB = grouped[mask]\n",
    "df_BBB.plot(x = 'date', y = 'sum', title = 'Market Cap Weighted Average Monthly Return by Rating', color = 'salmon', ax=ax, label = 'BBB') \n",
    "\n",
    "\n",
    "mask = grouped['rating'] == 'CCC'\n",
    "df_BBB = grouped[mask]\n",
    "df_BBB.plot(x = 'date', y = 'sum', title = 'Market Cap Weighted Average Monthly Return by Rating', color = 'grey', ax=ax, label = 'CCC') \n",
    "\n",
    "# ax = grouped[mask].plot(x = 'date', y = 'sum', title = i, color = 'teal', figsize = (15,5))\n",
    "# plt.ylabel('average return')\n",
    "ax.yaxis.set_major_formatter(mtick.PercentFormatter())\n",
    "ax.set_ylabel('average return')\n",
    "# #     plt.show()\n",
    "# ax = df1.plot()\n",
    "# df2.plot(ax=ax)\n",
    "plt.show()\n",
    "    "
   ]
  },
  {
   "cell_type": "code",
   "execution_count": null,
   "metadata": {},
   "outputs": [],
   "source": [
    "grouped.groupby('rating')[['sum','count']].sum()"
   ]
  },
  {
   "cell_type": "code",
   "execution_count": 2,
   "metadata": {},
   "outputs": [
    {
     "ename": "NameError",
     "evalue": "name 'grouped' is not defined",
     "output_type": "error",
     "traceback": [
      "\u001b[1;31m---------------------------------------------------------------------------\u001b[0m",
      "\u001b[1;31mNameError\u001b[0m                                 Traceback (most recent call last)",
      "\u001b[1;32m<ipython-input-2-1fd768816b64>\u001b[0m in \u001b[0;36m<module>\u001b[1;34m\u001b[0m\n\u001b[1;32m----> 1\u001b[1;33m \u001b[0myear_1998_2017\u001b[0m \u001b[1;33m=\u001b[0m \u001b[0mgrouped\u001b[0m\u001b[1;33m.\u001b[0m\u001b[0mgroupby\u001b[0m\u001b[1;33m(\u001b[0m\u001b[1;34m'rating'\u001b[0m\u001b[1;33m)\u001b[0m\u001b[1;33m[\u001b[0m\u001b[1;33m[\u001b[0m\u001b[1;34m'sum'\u001b[0m\u001b[1;33m]\u001b[0m\u001b[1;33m]\u001b[0m\u001b[1;33m.\u001b[0m\u001b[0mmean\u001b[0m\u001b[1;33m(\u001b[0m\u001b[1;33m)\u001b[0m\u001b[1;33m\u001b[0m\u001b[1;33m\u001b[0m\u001b[0m\n\u001b[0m\u001b[0;32m      2\u001b[0m \u001b[0myear_1998_2017\u001b[0m\u001b[1;33m\u001b[0m\u001b[1;33m\u001b[0m\u001b[0m\n\u001b[0;32m      3\u001b[0m \u001b[0mprint\u001b[0m\u001b[1;33m(\u001b[0m\u001b[1;34m'average return difference between AAA and CCC from 1998 to 2017:'\u001b[0m\u001b[1;33m,\u001b[0m \u001b[0mfloat\u001b[0m\u001b[1;33m(\u001b[0m\u001b[0myear_1998_2017\u001b[0m\u001b[1;33m.\u001b[0m\u001b[0mT\u001b[0m\u001b[1;33m[\u001b[0m\u001b[1;34m'AAA'\u001b[0m\u001b[1;33m]\u001b[0m \u001b[1;33m-\u001b[0m \u001b[0myear_1998_2017\u001b[0m\u001b[1;33m.\u001b[0m\u001b[0mT\u001b[0m\u001b[1;33m[\u001b[0m\u001b[1;34m'CCC'\u001b[0m\u001b[1;33m]\u001b[0m\u001b[1;33m)\u001b[0m\u001b[1;33m,\u001b[0m\u001b[1;34m'percent'\u001b[0m\u001b[1;33m)\u001b[0m\u001b[1;33m\u001b[0m\u001b[1;33m\u001b[0m\u001b[0m\n\u001b[0;32m      4\u001b[0m \u001b[0myear_1998_2017\u001b[0m\u001b[1;33m\u001b[0m\u001b[1;33m\u001b[0m\u001b[0m\n",
      "\u001b[1;31mNameError\u001b[0m: name 'grouped' is not defined"
     ]
    }
   ],
   "source": [
    "year_1998_2017 = grouped.groupby('rating')[['sum']].mean()\n",
    "year_1998_2017\n",
    "print('average return difference between AAA and CCC from 1998 to 2017:', float(year_1998_2017.T['AAA'] - year_1998_2017.T['CCC']),'percent')\n",
    "year_1998_2017"
   ]
  },
  {
   "cell_type": "code",
   "execution_count": null,
   "metadata": {},
   "outputs": [],
   "source": [
    "mask = grouped['year'] <= 2008\n",
    "year_1998_2008 = grouped[mask].groupby('rating')[['sum']].mean()\n",
    "print('average return difference between AAA and CCC from 1998 to 2008:', float(year_1998_2008.T['AAA'] - year_1998_2008.T['CCC']),'percent')\n"
   ]
  },
  {
   "cell_type": "code",
   "execution_count": null,
   "metadata": {},
   "outputs": [],
   "source": [
    "mask = grouped['year'] > 2008\n",
    "grouped[mask].groupby('rating')[['sum']].mean()\n",
    "year_2008_2017 = grouped[mask].groupby('rating')[['sum']].mean()\n",
    "print('average return difference between AAA and CCC from 2008 to 2017:', float(year_2008_2017.T['AAA'] - year_2008_2017.T['CCC']),'percent')\n"
   ]
  },
  {
   "cell_type": "code",
   "execution_count": null,
   "metadata": {},
   "outputs": [],
   "source": [
    "grouped"
   ]
  },
  {
   "cell_type": "code",
   "execution_count": null,
   "metadata": {},
   "outputs": [],
   "source": []
  },
  {
   "cell_type": "code",
   "execution_count": null,
   "metadata": {},
   "outputs": [],
   "source": []
  }
 ],
 "metadata": {
  "kernelspec": {
   "display_name": "Python 3",
   "language": "python",
   "name": "python3"
  },
  "language_info": {
   "codemirror_mode": {
    "name": "ipython",
    "version": 3
   },
   "file_extension": ".py",
   "mimetype": "text/x-python",
   "name": "python",
   "nbconvert_exporter": "python",
   "pygments_lexer": "ipython3",
   "version": "3.7.5"
  }
 },
 "nbformat": 4,
 "nbformat_minor": 4
}
