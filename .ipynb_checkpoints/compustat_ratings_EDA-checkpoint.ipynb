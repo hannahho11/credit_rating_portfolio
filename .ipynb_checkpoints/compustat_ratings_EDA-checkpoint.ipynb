{
 "cells": [
  {
   "cell_type": "code",
   "execution_count": null,
   "metadata": {},
   "outputs": [],
   "source": [
    "#Data from Compustat Daily Ratings Updates: https://wrds-web.wharton.upenn.edu/wrds/ds/compd/rating/index.cfm?navId=83\n",
    "#Query 1997-02 to 2019-10, data discontinued 2017-02\n"
   ]
  }
 ],
 "metadata": {
  "kernelspec": {
   "display_name": "Python 3",
   "language": "python",
   "name": "python3"
  },
  "language_info": {
   "codemirror_mode": {
    "name": "ipython",
    "version": 3
   },
   "file_extension": ".py",
   "mimetype": "text/x-python",
   "name": "python",
   "nbconvert_exporter": "python",
   "pygments_lexer": "ipython3",
   "version": "3.7.5"
  }
 },
 "nbformat": 4,
 "nbformat_minor": 4
}
