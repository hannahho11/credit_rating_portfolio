{
 "cells": [
  {
   "cell_type": "code",
   "execution_count": 1,
   "metadata": {},
   "outputs": [],
   "source": [
    "import pandas as pd"
   ]
  },
  {
   "cell_type": "code",
   "execution_count": 2,
   "metadata": {},
   "outputs": [
    {
     "name": "stderr",
     "output_type": "stream",
     "text": [
      "C:\\Users\\Derrick\\Anaconda2\\lib\\site-packages\\IPython\\core\\interactiveshell.py:3058: DtypeWarning: Columns (2,3,6,7,8,14,30) have mixed types. Specify dtype option on import or set low_memory=False.\n",
      "  interactivity=interactivity, compiler=compiler, result=result)\n"
     ]
    }
   ],
   "source": [
    "df = pd.read_csv('compustat_dailly_ratings_1997_02_to_latest.csv')"
   ]
  },
  {
   "cell_type": "code",
   "execution_count": 4,
   "metadata": {},
   "outputs": [
    {
     "data": {
      "text/plain": [
       "Index(['gvkey', 'splticrm', 'spsdrm', 'spsticrm', 'datadate', 'add1', 'add2',\n",
       "       'add3', 'add4', 'addzip', 'busdesc', 'cik', 'city', 'conml', 'county',\n",
       "       'dlrsn', 'ein', 'fax', 'fic', 'fyrc', 'ggroup', 'gind', 'gsector',\n",
       "       'gsubind', 'idbflag', 'incorp', 'loc', 'naics', 'phone', 'prican',\n",
       "       'prirow', 'priusa', 'sic', 'spcindcd', 'spcseccd', 'spcsrc', 'state',\n",
       "       'stko', 'weburl', 'dldte', 'ipodate', 'conm', 'tic', 'cusip'],\n",
       "      dtype='object')"
      ]
     },
     "execution_count": 4,
     "metadata": {},
     "output_type": "execute_result"
    }
   ],
   "source": [
    "df.columns"
   ]
  },
  {
   "cell_type": "code",
   "execution_count": 6,
   "metadata": {},
   "outputs": [
    {
     "data": {
      "text/plain": [
       "BBB     60149\n",
       "B+      48345\n",
       "BBB+    47786\n",
       "BBB-    46539\n",
       "BB-     44129\n",
       "A-      37203\n",
       "A       35631\n",
       "B       34892\n",
       "BB      34450\n",
       "BB+     27469\n",
       "A+      22673\n",
       "B-      17720\n",
       "AA-     13008\n",
       "AA       7409\n",
       "CCC+     6865\n",
       "D        5208\n",
       "AAA      4420\n",
       "CCC      3515\n",
       "AA+      2430\n",
       "CC       1293\n",
       "CCC-     1126\n",
       "SD        666\n",
       "N.M.      182\n",
       "Name: splticrm, dtype: int64"
      ]
     },
     "execution_count": 6,
     "metadata": {},
     "output_type": "execute_result"
    }
   ],
   "source": [
    "df['splticrm'].value_counts()"
   ]
  },
  {
   "cell_type": "code",
   "execution_count": 7,
   "metadata": {},
   "outputs": [
    {
     "data": {
      "text/plain": [
       "B-      2383\n",
       "B       2170\n",
       "B+      1438\n",
       "A-      1151\n",
       "BBB-    1106\n",
       "BB+      932\n",
       "BB-      864\n",
       "BBB      817\n",
       "BBB+     696\n",
       "A        518\n",
       "A+       453\n",
       "CCC+     423\n",
       "D        206\n",
       "AA-      192\n",
       "CCC      177\n",
       "AA        76\n",
       "CCC-      65\n",
       "AAA       30\n",
       "CC        22\n",
       "AA+       20\n",
       "C         12\n",
       "BB         5\n",
       "Name: spsdrm, dtype: int64"
      ]
     },
     "execution_count": 7,
     "metadata": {},
     "output_type": "execute_result"
    }
   ],
   "source": [
    "df['spsdrm'].value_counts()"
   ]
  },
  {
   "cell_type": "code",
   "execution_count": 8,
   "metadata": {},
   "outputs": [
    {
     "data": {
      "text/plain": [
       "A-2     68957\n",
       "A-1     44184\n",
       "A-1+    23304\n",
       "A-3     10871\n",
       "B        4062\n",
       "B-2      1128\n",
       "B-1       744\n",
       "C         593\n",
       "B-3       435\n",
       "D         368\n",
       "SD         10\n",
       "Name: spsticrm, dtype: int64"
      ]
     },
     "execution_count": 8,
     "metadata": {},
     "output_type": "execute_result"
    }
   ],
   "source": [
    "df['spsticrm'].value_counts()"
   ]
  },
  {
   "cell_type": "code",
   "execution_count": 9,
   "metadata": {},
   "outputs": [
    {
     "data": {
      "text/plain": [
       "C      395384\n",
       "B-     251865\n",
       "B      194856\n",
       "B+     155963\n",
       "D      107625\n",
       "A-      57821\n",
       "A       42623\n",
       "A+      12578\n",
       "LIQ      1248\n",
       "Name: spcsrc, dtype: int64"
      ]
     },
     "execution_count": 9,
     "metadata": {},
     "output_type": "execute_result"
    }
   ],
   "source": [
    "df['spcsrc'].value_counts()"
   ]
  },
  {
   "cell_type": "code",
   "execution_count": 10,
   "metadata": {},
   "outputs": [],
   "source": [
    "lista= ['splticrm','spsdrm','spsticrm','spcsrc']"
   ]
  },
  {
   "cell_type": "code",
   "execution_count": 12,
   "metadata": {},
   "outputs": [
    {
     "name": "stdout",
     "output_type": "stream",
     "text": [
      "splticrm : 1884358\n",
      "spsdrm : 2373710\n",
      "spsticrm : 2232810\n",
      "spcsrc : 1167503\n"
     ]
    }
   ],
   "source": [
    "for i in lista:\n",
    "    print(i,':',df[i].isnull().sum())"
   ]
  },
  {
   "cell_type": "code",
   "execution_count": 14,
   "metadata": {},
   "outputs": [
    {
     "data": {
      "text/plain": [
       "(2387466, 44)"
      ]
     },
     "execution_count": 14,
     "metadata": {},
     "output_type": "execute_result"
    }
   ],
   "source": [
    "df.shape"
   ]
  },
  {
   "cell_type": "code",
   "execution_count": 4,
   "metadata": {},
   "outputs": [
    {
     "name": "stdout",
     "output_type": "stream",
     "text": [
      "8442455 observations\n",
      "10 unique rating agencies\n",
      "\n",
      "Rating agencies:  ['Kroll Bond Rating Agency, Inc.' \"Moody's Investors Service\" 'DBRS'\n",
      " 'Japan Credit Rating Agency,Ltd.' 'Egan-Jones Ratings Company'\n",
      " 'Fitch Ratings' 'A.M.BEST COMPANY' 'HR Ratings de Mexico S.A. de C.V.'\n",
      " \"Standard & Poor's Ratings Services\" 'Morningstar Credit Ratings, LLC.']\n",
      "\n",
      "Columns:  Index(['rating_agency_name', 'file_creating_date', 'sec_category',\n",
      "       'issuer_name', 'legal_entity_identifier', 'object_type_rated',\n",
      "       'instrument_name', 'cusip_number', 'coupon_date', 'maturity_date',\n",
      "       'par_value', 'issued_paid', 'rating', 'rating_action_date',\n",
      "       'rating_action_class', 'rating_type', 'rating_sub_type',\n",
      "       'rating_type_term', 'other_announcement_type', 'watch_status',\n",
      "       'rating_outlook', 'issuer_identifier', 'issuer_identifier_schema',\n",
      "       'instrument_identifier', 'instrument_identifier_schema',\n",
      "       'central_index_key', 'obligor_identifier', 'obligor_identifier_schema',\n",
      "       'obligor_identifier_other', 'obligor_sec_category',\n",
      "       'obligor_industry_group', 'obligor_name'],\n",
      "      dtype='object')\n"
     ]
    }
   ],
   "source": [
    "print(len(df), 'observations')\n",
    "print(df['rating_agency_name'].nunique(), 'unique rating agencies')\n",
    "print('\\nRating agencies: ', df['rating_agency_name'].unique())\n",
    "print('\\nColumns: ', df.columns)"
   ]
  },
  {
   "cell_type": "markdown",
   "metadata": {},
   "source": [
    "CUSIP is a nine-digit numeric or nine-character alphanumeric code that identifies a North American financial security for the purposes of facilitating clearing and settlement of trades')"
   ]
  },
  {
   "cell_type": "code",
   "execution_count": 5,
   "metadata": {},
   "outputs": [],
   "source": [
    "# Convert date columns to datetime objects\n",
    "df['file_creating_date'] = pd.to_datetime(df['file_creating_date'])\n",
    "df['rating_action_date'] = pd.to_datetime(df['rating_action_date'])"
   ]
  },
  {
   "cell_type": "code",
   "execution_count": 6,
   "metadata": {},
   "outputs": [
    {
     "name": "stdout",
     "output_type": "stream",
     "text": [
      "earliest date:  1976-04-01 00:00:00\n",
      "latest date:  2017-12-01 00:00:00\n"
     ]
    }
   ],
   "source": [
    "print('earliest date: ', df['rating_action_date'].min())\n",
    "print('latest date: ', df['rating_action_date'].max())"
   ]
  },
  {
   "cell_type": "code",
   "execution_count": 7,
   "metadata": {},
   "outputs": [
    {
     "data": {
      "text/plain": [
       "<matplotlib.axes._subplots.AxesSubplot at 0x1877df01488>"
      ]
     },
     "execution_count": 7,
     "metadata": {},
     "output_type": "execute_result"
    }
   ],
   "source": [
    "# Create column with rating_action year\n",
    "df['rating_action_year'] = df['rating_action_date'].dt.to_period('Y')\n",
    "df['rating_action_year'].value_counts().plot(title = 'Unique bonds rating actions per year ranked by frequency', kind='bar')"
   ]
  },
  {
   "cell_type": "code",
   "execution_count": null,
   "metadata": {},
   "outputs": [],
   "source": []
  }
 ],
 "metadata": {
  "kernelspec": {
   "display_name": "Python 3",
   "language": "python",
   "name": "python3"
  },
  "language_info": {
   "codemirror_mode": {
    "name": "ipython",
    "version": 3
   },
   "file_extension": ".py",
   "mimetype": "text/x-python",
   "name": "python",
   "nbconvert_exporter": "python",
   "pygments_lexer": "ipython3",
   "version": "3.7.5"
  }
 },
 "nbformat": 4,
 "nbformat_minor": 4
}
