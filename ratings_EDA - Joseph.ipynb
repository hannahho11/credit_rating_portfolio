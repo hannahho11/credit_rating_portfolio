{
 "cells": [
  {
   "cell_type": "code",
   "execution_count": 1,
   "metadata": {},
   "outputs": [],
   "source": [
    "import pandas as pd"
   ]
  },
  {
   "cell_type": "code",
   "execution_count": 19,
   "metadata": {},
   "outputs": [],
   "source": [
    "# data_files = '../muni-finance-credit-ratings-history-data/data/'\n",
    "# csv_name = 'ratings_for_upload.csv'\n",
    "rating = pd.read_csv('compustat_dailly_ratings_1997_02_to_latest.csv')"
   ]
  },
  {
   "cell_type": "code",
   "execution_count": 20,
   "metadata": {
    "scrolled": false
   },
   "outputs": [
    {
     "name": "stderr",
     "output_type": "stream",
     "text": [
      "C:\\Users\\Joseph\\Anaconda3\\lib\\site-packages\\IPython\\core\\interactiveshell.py:3058: DtypeWarning: Columns (1,29,30,33,35,36,45,49,50,51,57,59,67,71,72,77,78) have mixed types. Specify dtype option on import or set low_memory=False.\n",
      "  interactivity=interactivity, compiler=compiler, result=result)\n"
     ]
    }
   ],
   "source": [
    "price = pd.read_csv('compustat_daily_prices_1997_02_to_latest.csv')"
   ]
  },
  {
   "cell_type": "code",
   "execution_count": null,
   "metadata": {},
   "outputs": [],
   "source": []
  },
  {
   "cell_type": "code",
   "execution_count": 55,
   "metadata": {},
   "outputs": [
    {
     "data": {
      "text/plain": [
       "USA    3036680\n",
       "CAN    1092145\n",
       "CHN      66885\n",
       "GBR      55997\n",
       "JPN      36897\n",
       "        ...   \n",
       "KHM         43\n",
       "MNG         37\n",
       "BRB         32\n",
       "LBN         28\n",
       "BOL          1\n",
       "Name: loc, Length: 87, dtype: int64"
      ]
     },
     "execution_count": 55,
     "metadata": {},
     "output_type": "execute_result"
    }
   ],
   "source": [
    "price['loc'].value_counts()"
   ]
  },
  {
   "cell_type": "code",
   "execution_count": null,
   "metadata": {},
   "outputs": [],
   "source": []
  },
  {
   "cell_type": "code",
   "execution_count": null,
   "metadata": {},
   "outputs": [],
   "source": []
  },
  {
   "cell_type": "code",
   "execution_count": 44,
   "metadata": {},
   "outputs": [
    {
     "data": {
      "text/plain": [
       "36629    320193.0\n",
       "36630    320193.0\n",
       "36631    320193.0\n",
       "36632    320193.0\n",
       "36633    320193.0\n",
       "           ...   \n",
       "36902    320193.0\n",
       "36903    320193.0\n",
       "36904    320193.0\n",
       "36905    320193.0\n",
       "36906    320193.0\n",
       "Name: cik, Length: 278, dtype: float64"
      ]
     },
     "execution_count": 44,
     "metadata": {},
     "output_type": "execute_result"
    }
   ],
   "source": [
    "price[price['tic'] == 'AAPL']['cik']"
   ]
  },
  {
   "cell_type": "code",
   "execution_count": 29,
   "metadata": {},
   "outputs": [
    {
     "data": {
      "text/plain": [
       "1.5790624977530338e-07"
      ]
     },
     "execution_count": 29,
     "metadata": {},
     "output_type": "execute_result"
    }
   ],
   "source": [
    "rating['cik'].isna().sum() / rating['cik'].sum() "
   ]
  },
  {
   "cell_type": "code",
   "execution_count": 51,
   "metadata": {},
   "outputs": [],
   "source": [
    "mask= rating['cik'] == 320193\n",
    "rating[mask][['cik','datadate', 'splticrm']].to_csv('aapl.csv')"
   ]
  },
  {
   "cell_type": "code",
   "execution_count": 49,
   "metadata": {},
   "outputs": [
    {
     "data": {
      "text/plain": [
       "Index(['gvkey', 'splticrm', 'spsdrm', 'spsticrm', 'datadate', 'add1', 'add2',\n",
       "       'add3', 'add4', 'addzip', 'busdesc', 'cik', 'city', 'conml', 'county',\n",
       "       'dlrsn', 'ein', 'fax', 'fic', 'fyrc', 'ggroup', 'gind', 'gsector',\n",
       "       'gsubind', 'idbflag', 'incorp', 'loc', 'naics', 'phone', 'prican',\n",
       "       'prirow', 'priusa', 'sic', 'spcindcd', 'spcseccd', 'spcsrc', 'state',\n",
       "       'stko', 'weburl', 'dldte', 'ipodate', 'conm', 'tic', 'cusip'],\n",
       "      dtype='object')"
      ]
     },
     "execution_count": 49,
     "metadata": {},
     "output_type": "execute_result"
    }
   ],
   "source": [
    "rating.columns"
   ]
  },
  {
   "cell_type": "code",
   "execution_count": 9,
   "metadata": {},
   "outputs": [],
   "source": [
    "mask = df['ipodate'].isna()\n",
    "\n",
    "df = df[-mask]"
   ]
  },
  {
   "cell_type": "code",
   "execution_count": 17,
   "metadata": {},
   "outputs": [
    {
     "data": {
      "text/html": [
       "<div>\n",
       "<style scoped>\n",
       "    .dataframe tbody tr th:only-of-type {\n",
       "        vertical-align: middle;\n",
       "    }\n",
       "\n",
       "    .dataframe tbody tr th {\n",
       "        vertical-align: top;\n",
       "    }\n",
       "\n",
       "    .dataframe thead th {\n",
       "        text-align: right;\n",
       "    }\n",
       "</style>\n",
       "<table border=\"1\" class=\"dataframe\">\n",
       "  <thead>\n",
       "    <tr style=\"text-align: right;\">\n",
       "      <th></th>\n",
       "      <th>splticrm</th>\n",
       "      <th>cik</th>\n",
       "    </tr>\n",
       "  </thead>\n",
       "  <tbody>\n",
       "    <tr>\n",
       "      <td>102</td>\n",
       "      <td>NaN</td>\n",
       "      <td>1750.0</td>\n",
       "    </tr>\n",
       "    <tr>\n",
       "      <td>103</td>\n",
       "      <td>NaN</td>\n",
       "      <td>1750.0</td>\n",
       "    </tr>\n",
       "    <tr>\n",
       "      <td>104</td>\n",
       "      <td>NaN</td>\n",
       "      <td>1750.0</td>\n",
       "    </tr>\n",
       "    <tr>\n",
       "      <td>105</td>\n",
       "      <td>NaN</td>\n",
       "      <td>1750.0</td>\n",
       "    </tr>\n",
       "    <tr>\n",
       "      <td>106</td>\n",
       "      <td>NaN</td>\n",
       "      <td>1750.0</td>\n",
       "    </tr>\n",
       "    <tr>\n",
       "      <td>...</td>\n",
       "      <td>...</td>\n",
       "      <td>...</td>\n",
       "    </tr>\n",
       "    <tr>\n",
       "      <td>478</td>\n",
       "      <td>BB+</td>\n",
       "      <td>1750.0</td>\n",
       "    </tr>\n",
       "    <tr>\n",
       "      <td>479</td>\n",
       "      <td>BB+</td>\n",
       "      <td>1750.0</td>\n",
       "    </tr>\n",
       "    <tr>\n",
       "      <td>480</td>\n",
       "      <td>BB+</td>\n",
       "      <td>1750.0</td>\n",
       "    </tr>\n",
       "    <tr>\n",
       "      <td>481</td>\n",
       "      <td>BB+</td>\n",
       "      <td>1750.0</td>\n",
       "    </tr>\n",
       "    <tr>\n",
       "      <td>482</td>\n",
       "      <td>BB+</td>\n",
       "      <td>1750.0</td>\n",
       "    </tr>\n",
       "  </tbody>\n",
       "</table>\n",
       "<p>381 rows × 2 columns</p>\n",
       "</div>"
      ],
      "text/plain": [
       "    splticrm     cik\n",
       "102      NaN  1750.0\n",
       "103      NaN  1750.0\n",
       "104      NaN  1750.0\n",
       "105      NaN  1750.0\n",
       "106      NaN  1750.0\n",
       "..       ...     ...\n",
       "478      BB+  1750.0\n",
       "479      BB+  1750.0\n",
       "480      BB+  1750.0\n",
       "481      BB+  1750.0\n",
       "482      BB+  1750.0\n",
       "\n",
       "[381 rows x 2 columns]"
      ]
     },
     "execution_count": 17,
     "metadata": {},
     "output_type": "execute_result"
    }
   ],
   "source": [
    "df[df['gvkey'] == 1004][['splticrm','cik']]"
   ]
  },
  {
   "cell_type": "code",
   "execution_count": null,
   "metadata": {},
   "outputs": [],
   "source": []
  },
  {
   "cell_type": "code",
   "execution_count": 7,
   "metadata": {},
   "outputs": [
    {
     "data": {
      "text/plain": [
       "Index(['rating_agency_name', 'file_creating_date', 'sec_category',\n",
       "       'issuer_name', 'legal_entity_identifier', 'object_type_rated',\n",
       "       'instrument_name', 'cusip_number', 'coupon_date', 'maturity_date',\n",
       "       'par_value', 'issued_paid', 'rating', 'rating_action_date',\n",
       "       'rating_action_class', 'rating_type', 'rating_sub_type',\n",
       "       'rating_type_term', 'other_announcement_type', 'watch_status',\n",
       "       'rating_outlook', 'issuer_identifier', 'issuer_identifier_schema',\n",
       "       'instrument_identifier', 'instrument_identifier_schema',\n",
       "       'central_index_key', 'obligor_identifier', 'obligor_identifier_schema',\n",
       "       'obligor_identifier_other', 'obligor_sec_category',\n",
       "       'obligor_industry_group', 'obligor_name'],\n",
       "      dtype='object')"
      ]
     },
     "execution_count": 7,
     "metadata": {},
     "output_type": "execute_result"
    }
   ],
   "source": [
    "df.columns"
   ]
  },
  {
   "cell_type": "code",
   "execution_count": 4,
   "metadata": {},
   "outputs": [
    {
     "name": "stdout",
     "output_type": "stream",
     "text": [
      "8442455 observations\n",
      "10 unique rating agencies\n",
      "\n",
      "Rating agencies:  ['Kroll Bond Rating Agency, Inc.' \"Moody's Investors Service\" 'DBRS'\n",
      " 'Japan Credit Rating Agency,Ltd.' 'Egan-Jones Ratings Company'\n",
      " 'Fitch Ratings' 'A.M.BEST COMPANY' 'HR Ratings de Mexico S.A. de C.V.'\n",
      " \"Standard & Poor's Ratings Services\" 'Morningstar Credit Ratings, LLC.']\n",
      "\n",
      "Columns:  Index(['rating_agency_name', 'file_creating_date', 'sec_category',\n",
      "       'issuer_name', 'legal_entity_identifier', 'object_type_rated',\n",
      "       'instrument_name', 'cusip_number', 'coupon_date', 'maturity_date',\n",
      "       'par_value', 'issued_paid', 'rating', 'rating_action_date',\n",
      "       'rating_action_class', 'rating_type', 'rating_sub_type',\n",
      "       'rating_type_term', 'other_announcement_type', 'watch_status',\n",
      "       'rating_outlook', 'issuer_identifier', 'issuer_identifier_schema',\n",
      "       'instrument_identifier', 'instrument_identifier_schema',\n",
      "       'central_index_key', 'obligor_identifier', 'obligor_identifier_schema',\n",
      "       'obligor_identifier_other', 'obligor_sec_category',\n",
      "       'obligor_industry_group', 'obligor_name'],\n",
      "      dtype='object')\n"
     ]
    }
   ],
   "source": [
    "print(len(df), 'observations')\n",
    "print(df['rating_agency_name'].nunique(), 'unique rating agencies')\n",
    "print('\\nRating agencies: ', df['rating_agency_name'].unique())\n",
    "print('\\nColumns: ', df.columns)"
   ]
  },
  {
   "cell_type": "markdown",
   "metadata": {},
   "source": [
    "CUSIP is a nine-digit numeric or nine-character alphanumeric code that identifies a North American financial security for the purposes of facilitating clearing and settlement of trades')"
   ]
  },
  {
   "cell_type": "code",
   "execution_count": 5,
   "metadata": {},
   "outputs": [],
   "source": [
    "# Convert date columns to datetime objects\n",
    "df['file_creating_date'] = pd.to_datetime(df['file_creating_date'])\n",
    "df['rating_action_date'] = pd.to_datetime(df['rating_action_date'])"
   ]
  },
  {
   "cell_type": "code",
   "execution_count": 6,
   "metadata": {},
   "outputs": [
    {
     "name": "stdout",
     "output_type": "stream",
     "text": [
      "earliest date:  1976-04-01 00:00:00\n",
      "latest date:  2017-12-01 00:00:00\n"
     ]
    }
   ],
   "source": [
    "print('earliest date: ', df['rating_action_date'].min())\n",
    "print('latest date: ', df['rating_action_date'].max())"
   ]
  },
  {
   "cell_type": "code",
   "execution_count": 7,
   "metadata": {},
   "outputs": [
    {
     "data": {
      "text/plain": [
       "<matplotlib.axes._subplots.AxesSubplot at 0x1877df01488>"
      ]
     },
     "execution_count": 7,
     "metadata": {},
     "output_type": "execute_result"
    }
   ],
   "source": [
    "# Create column with rating_action year\n",
    "df['rating_action_year'] = df['rating_action_date'].dt.to_period('Y')\n",
    "df['rating_action_year'].value_counts().plot(title = 'Unique bonds rating actions per year ranked by frequency', kind='bar')"
   ]
  },
  {
   "cell_type": "code",
   "execution_count": null,
   "metadata": {},
   "outputs": [],
   "source": []
  }
 ],
 "metadata": {
  "kernelspec": {
   "display_name": "Python 3",
   "language": "python",
   "name": "python3"
  },
  "language_info": {
   "codemirror_mode": {
    "name": "ipython",
    "version": 3
   },
   "file_extension": ".py",
   "mimetype": "text/x-python",
   "name": "python",
   "nbconvert_exporter": "python",
   "pygments_lexer": "ipython3",
   "version": "3.7.4"
  }
 },
 "nbformat": 4,
 "nbformat_minor": 4
}
